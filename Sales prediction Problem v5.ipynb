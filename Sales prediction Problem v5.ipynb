{
 "cells": [
  {
   "cell_type": "markdown",
   "metadata": {},
   "source": [
    "# 🎂 Segmind Challenge : Prediction of Sales of each Store🎂\n",
    "\n",
    "## TO DO:\n",
    "\n",
    "> Predict store sales of a store using the given dataset.\n",
    "\n",
    "## Data:\n",
    "> Dataset Given\n",
    "\n",
    "* The dataset consists of 4 CSV files:\n",
    "* TRAIN.csv : (./dataset/TRAIN.csv)\n",
    "* TEST.csv: (./dataset/TEST.csv)\n",
    "* store.csv - additional information regarding the stores: (./dataset/store.csv)\n",
    "\n",
    "## Evaluate:\n",
    "* Time-series prediction problem.\n",
    "* Sales has direct correlation to OPEN or not\n",
    "\n",
    "## Features:\n",
    "> From Test data\n",
    "\n",
    "* Store: Store number\n",
    "* DayOfWeek: Day (out of 7) per week\n",
    "* Date: DD-MM-YYYY format\n",
    "* Open: 1 for open, 0 for close\n",
    "* Promo: 0 or 1 \n",
    "* StateHoliday: 0, a, b, c (0 or store type)\n",
    "* SchoolHoliday: 0 or 1"
   ]
  },
  {
   "cell_type": "markdown",
   "metadata": {},
   "source": [
    "## 🤳Imports"
   ]
  },
  {
   "cell_type": "code",
   "execution_count": 12,
   "metadata": {},
   "outputs": [],
   "source": [
    "# Essentials\n",
    "import sys\n",
    "import numpy as np\n",
    "import pandas as pd\n",
    "import matplotlib.pyplot as plt\n",
    "\n",
    "import seaborn as sns\n",
    "from pandas.plotting import scatter_matrix\n",
    "from sklearn.preprocessing import OneHotEncoder, StandardScaler, LabelEncoder, OrdinalEncoder\n",
    "from sklearn.impute import SimpleImputer\n",
    "from sklearn.pipeline import Pipeline\n",
    "from sklearn.compose import ColumnTransformer\n",
    "from dateutil.parser import parse\n",
    "from math import ceil\n",
    "from sklearn.model_selection import train_test_split, RandomizedSearchCV, GridSearchCV\n",
    "from sklearn.linear_model import ElasticNet, Lasso, SGDRegressor, BayesianRidge\n",
    "from sklearn.tree import DecisionTreeRegressor\n",
    "from sklearn.svm import SVR\n",
    "from sklearn.neural_network import MLPRegressor\n",
    "from sklearn.ensemble import AdaBoostRegressor,ExtraTreesRegressor,GradientBoostingRegressor,RandomForestRegressor\n",
    "import xgboost\n",
    "from sklearn.metrics import mean_squared_error, mean_absolute_error, r2_score\n",
    "from pprint import pprint\n",
    "\n",
    "import pickle"
   ]
  },
  {
   "cell_type": "markdown",
   "metadata": {},
   "source": [
    "## 💚Inputs"
   ]
  },
  {
   "cell_type": "code",
   "execution_count": 13,
   "metadata": {},
   "outputs": [],
   "source": [
    "# Store data\n",
    "def import_store():\n",
    "    storedf = pd.read_csv('./dataset/store.csv')\n",
    "    return storedf\n",
    "# Sales data\n",
    "def import_data(x):\n",
    "    df = pd.read_csv('./dataset/'+x+'.csv')\n",
    "    return df"
   ]
  },
  {
   "cell_type": "markdown",
   "metadata": {},
   "source": [
    "## 💌Total preprocessing"
   ]
  },
  {
   "cell_type": "code",
   "execution_count": 14,
   "metadata": {},
   "outputs": [],
   "source": [
    "# Store attributes\n",
    "months = ['Jan','Feb','Mar','Apr','May','Jun','Jul','Aug','Sep','Oct','Nov','Dec']\n",
    "months_with_store = ['Store','Jan','Feb','Mar','Apr','May','Jun','Jul','Aug','Sep','Oct','Nov','Dec']\n",
    "num_attribs = [\"CompetitionDistance\",\n",
    "               \"CompetitionOpenSinceMonth\",\n",
    "               \"CompetitionOpenSinceYear\",\n",
    "               \"Promo2SinceWeek\",\n",
    "               \"Promo2SinceYear\"]\n",
    "# scale_attribs = [\"CompetitionDistance\"]\n",
    "obj_attribs = [\"StoreType\", \"Assortment\"]"
   ]
  },
  {
   "cell_type": "code",
   "execution_count": 15,
   "metadata": {},
   "outputs": [],
   "source": [
    "# Store Pipelines\n",
    "\n",
    "# cd_pipeline_median = Pipeline([\n",
    "#     (\"imputer\", SimpleImputer(strategy='median')),\n",
    "#     (\"stdscale\", StandardScaler())\n",
    "# ])\n",
    "\n",
    "# cd_pipeline_mean = Pipeline([\n",
    "#     (\"imputer\", SimpleImputer(strategy='mean')),\n",
    "#     (\"stdscale\", StandardScaler())\n",
    "# ])\n",
    "\n",
    "# cd_pipeline_mode = Pipeline([\n",
    "#     (\"imputer\", SimpleImputer(strategy='most_frequent')),\n",
    "#     (\"stdscale\", StandardScaler())\n",
    "# ])\n",
    "\n",
    "full_pipeline_median = ColumnTransformer([\n",
    "    (\"num\", SimpleImputer(strategy='median'), num_attribs),\n",
    "    (\"cat\", OrdinalEncoder(), obj_attribs)\n",
    "])\n",
    "\n",
    "full_pipeline_mean = ColumnTransformer([\n",
    "    (\"num\", SimpleImputer(strategy='mean'), num_attribs),\n",
    "    (\"cat\", OrdinalEncoder(), obj_attribs)\n",
    "])\n",
    "\n",
    "full_pipeline_mode = ColumnTransformer([\n",
    "    (\"num\", SimpleImputer(strategy='most_frequent'), num_attribs),\n",
    "    (\"cat\", OrdinalEncoder(), obj_attribs)\n",
    "])"
   ]
  },
  {
   "cell_type": "code",
   "execution_count": 16,
   "metadata": {},
   "outputs": [],
   "source": [
    "# Sore Preprocessing\n",
    "\n",
    "def divide_promointerval():\n",
    "    '''\n",
    "    1. Fillna with '0' in PROMOINTERVAL\n",
    "    2. Dividing PromoInterval into months and applying custom one hot encoding\n",
    "    4. Drop PROMOINTERVAL\n",
    "    ----------\n",
    "    PARAMETERS\n",
    "    ----------\n",
    "    NA\n",
    "    -------\n",
    "    RETURNS\n",
    "    -------    \n",
    "    test: DF after divinding the Promointerval into months\n",
    "    '''\n",
    "    store['PromoInterval'].fillna(value='0', inplace=True)\n",
    "    test = pd.DataFrame(data=store.Store, columns=months_with_store)\n",
    "    for month in months:\n",
    "        test[month] = np.where(store[\"PromoInterval\"].str.contains(month), 1, 0)\n",
    "    if 'PromoInterval' in store.columns:    \n",
    "        store.drop('PromoInterval', inplace=True, axis=1)    \n",
    "    return test\n",
    "\n",
    "def drop_store_columns():\n",
    "    '''\n",
    "    Dropping columns after preprocessing.\n",
    "    '''\n",
    "    for attri in num_attribs:\n",
    "        if attri in store.columns:\n",
    "            store.drop(attri, inplace=True, axis=1)\n",
    "    for attri in obj_attribs:\n",
    "        if attri in store.columns:\n",
    "            store.drop(attri, inplace=True, axis=1)         "
   ]
  },
  {
   "cell_type": "code",
   "execution_count": 17,
   "metadata": {},
   "outputs": [],
   "source": [
    "# Store transformation\n",
    "store = import_store()\n",
    "store_tranformed = full_pipeline_median.fit_transform(store)\n",
    "drop_store_columns()\n",
    "store_prepared = pd.DataFrame(data=store_tranformed, columns=(num_attribs+obj_attribs), index=store.index)\n",
    "store = store.join(store_prepared)\n",
    "month_df = divide_promointerval()\n",
    "store_df = pd.merge(left=store, right=month_df, on='Store')"
   ]
  },
  {
   "cell_type": "code",
   "execution_count": 18,
   "metadata": {},
   "outputs": [],
   "source": [
    "# Data Preprocessing\n",
    "def week_of_month(tgtdate):\n",
    "    date = parse(tgtdate)\n",
    "    first_day = date.replace(day=1)\n",
    "\n",
    "    day_of_month = date.day\n",
    "\n",
    "    if(first_day.weekday() == 6):\n",
    "        adjusted_dom = (1 + first_day.weekday()) / 7\n",
    "    else:\n",
    "        adjusted_dom = day_of_month + first_day.weekday()\n",
    "\n",
    "    return int(ceil(adjusted_dom/7.0))\n",
    "\n",
    "def change_tf(true_false):\n",
    "    if true_false == True:\n",
    "        return 1\n",
    "    else:\n",
    "        return 0\n",
    "\n",
    "def date_preproccesing():\n",
    "    train_df['year'] = pd.DatetimeIndex(train_df['Date']).year\n",
    "    train_df['month'] = pd.DatetimeIndex(train_df['Date']).month\n",
    "    train_df['quarter'] = pd.DatetimeIndex(train_df['Date']).quarter\n",
    "    train_df['dayofyear'] = pd.DatetimeIndex(train_df['Date']).dayofyear\n",
    "    train_df['weekofyear'] = pd.DatetimeIndex(train_df['Date']).weekofyear\n",
    "    train_df['week'] = pd.DatetimeIndex(train_df['Date']).week\n",
    "    train_df['is_month_start'] = pd.DatetimeIndex(train_df['Date']).is_month_start\n",
    "    train_df['is_month_end'] = pd.DatetimeIndex(train_df['Date']).is_month_end\n",
    "    train_df['is_year_end'] = pd.DatetimeIndex(train_df['Date']).is_year_end\n",
    "    train_df['is_year_start'] = pd.DatetimeIndex(train_df['Date']).is_year_start\n",
    "    train_df[\"StateHoliday\"] = train_df[\"StateHoliday\"].apply(lambda x: str(x))\n",
    "    train_df[\"WeekOfMonth\"] = train_df[\"Date\"].apply(week_of_month)\n",
    "    train_df[\"is_month_start\"] = train_df[\"is_month_start\"].apply(lambda x: change_tf(x))\n",
    "    train_df[\"is_month_end\"] = train_df[\"is_month_end\"].apply(lambda x: change_tf(x))\n",
    "    train_df[\"is_year_end\"] = train_df[\"is_year_end\"].apply(lambda x: change_tf(x))\n",
    "    train_df[\"is_year_start\"] = train_df[\"is_year_start\"].apply(lambda x: change_tf(x))\n",
    "\n",
    "def cat_transformation(x):\n",
    "    if 'train' in x:\n",
    "        train_df['StateHolidayCat'] = labelencoder.fit_transform(train_df['StateHoliday'])\n",
    "    else:\n",
    "        train_df['StateHolidayCat'] = labelencoder.transform(train_df['StateHoliday'])\n",
    "\n",
    "def drop_data_columns():\n",
    "    if 'Date' in train_df.columns:\n",
    "        train_df.drop('Date', inplace=True, axis=1)\n",
    "    if 'StateHoliday' in train_df.columns:\n",
    "        train_df.drop('StateHoliday', axis=1, inplace=True)\n",
    "    if 'Customers' in train_df.columns:\n",
    "        train_df.drop('Customers', axis=1, inplace=True)"
   ]
  },
  {
   "cell_type": "code",
   "execution_count": 19,
   "metadata": {},
   "outputs": [],
   "source": [
    "labelencoder = LabelEncoder()"
   ]
  },
  {
   "cell_type": "code",
   "execution_count": 36,
   "metadata": {},
   "outputs": [
    {
     "name": "stderr",
     "output_type": "stream",
     "text": [
      "<ipython-input-18-1c317fd3e691>:26: FutureWarning: weekofyear and week have been deprecated, please use DatetimeIndex.isocalendar().week instead, which returns a Series.  To exactly reproduce the behavior of week and weekofyear and return an Index, you may call pd.Int64Index(idx.isocalendar().week)\n",
      "  train_df['weekofyear'] = pd.DatetimeIndex(train_df['Date']).weekofyear\n",
      "<ipython-input-18-1c317fd3e691>:27: FutureWarning: weekofyear and week have been deprecated, please use DatetimeIndex.isocalendar().week instead, which returns a Series.  To exactly reproduce the behavior of week and weekofyear and return an Index, you may call pd.Int64Index(idx.isocalendar().week)\n",
      "  train_df['week'] = pd.DatetimeIndex(train_df['Date']).week\n"
     ]
    }
   ],
   "source": [
    "# Data transformation\n",
    "# labelencoder = LabelEncoder()\n",
    "train_or_test = 'test' #'test' 'train'\n",
    "train_df = import_data(train_or_test)\n",
    "date_preproccesing()\n",
    "if 'train' in train_or_test:\n",
    "    labelencoder.fit(train_df['StateHoliday'])\n",
    "    train_df['StateHolidayCat'] = labelencoder.transform(train_df['StateHoliday'])\n",
    "#     labelencoder.fit_transform(train_df['StateHoliday'])\n",
    "else:\n",
    "    train_df['StateHolidayCat'] = labelencoder.transform(train_df['StateHoliday'])\n",
    "# train_df['StateHolidayCat'] = labelencoder.transform(train_df['StateHoliday'])\n",
    "# cat_transformation(train_or_test)\n",
    "drop_data_columns()"
   ]
  },
  {
   "cell_type": "code",
   "execution_count": 37,
   "metadata": {},
   "outputs": [],
   "source": [
    "# Final_df\n",
    "# final_df = pd.merge(left=train_df, right=store_df, on='Store')\n",
    "final_df = pd.merge(train_df, store_df, how='left', left_on='Store', right_on='Store')\n",
    "# final_df.drop('Store', axis=1, inplace=True)"
   ]
  },
  {
   "cell_type": "code",
   "execution_count": 38,
   "metadata": {},
   "outputs": [
    {
     "data": {
      "text/plain": [
       "Index(['Store', 'DayOfWeek', 'Open', 'Promo', 'SchoolHoliday', 'year', 'month',\n",
       "       'quarter', 'dayofyear', 'weekofyear', 'week', 'is_month_start',\n",
       "       'is_month_end', 'is_year_end', 'is_year_start', 'WeekOfMonth',\n",
       "       'StateHolidayCat', 'Promo2', 'CompetitionDistance',\n",
       "       'CompetitionOpenSinceMonth', 'CompetitionOpenSinceYear',\n",
       "       'Promo2SinceWeek', 'Promo2SinceYear', 'StoreType', 'Assortment', 'Jan',\n",
       "       'Feb', 'Mar', 'Apr', 'May', 'Jun', 'Jul', 'Aug', 'Sep', 'Oct', 'Nov',\n",
       "       'Dec'],\n",
       "      dtype='object')"
      ]
     },
     "execution_count": 38,
     "metadata": {},
     "output_type": "execute_result"
    }
   ],
   "source": [
    "final_df.columns"
   ]
  },
  {
   "cell_type": "code",
   "execution_count": 39,
   "metadata": {},
   "outputs": [],
   "source": [
    "# Dropping columns with respect to feature importance\n",
    "columns_to_drop = ['Open', 'month','quarter', 'is_month_start', \n",
    "                   'is_year_end', 'is_year_start','StateHolidayCat','Jan',\n",
    "       'Feb', 'Mar', 'Apr', 'May', 'Jun', 'Jul', 'Aug', 'Sep', 'Oct', 'Nov',\n",
    "       'Dec']"
   ]
  },
  {
   "cell_type": "code",
   "execution_count": 40,
   "metadata": {},
   "outputs": [],
   "source": [
    "for attri in columns_to_drop:\n",
    "    if attri in final_df.columns:\n",
    "        final_df.drop(attri, inplace=True, axis=1)"
   ]
  },
  {
   "cell_type": "code",
   "execution_count": 41,
   "metadata": {},
   "outputs": [
    {
     "data": {
      "text/plain": [
       "Index(['Store', 'DayOfWeek', 'Promo', 'SchoolHoliday', 'year', 'dayofyear',\n",
       "       'weekofyear', 'week', 'is_month_end', 'WeekOfMonth', 'Promo2',\n",
       "       'CompetitionDistance', 'CompetitionOpenSinceMonth',\n",
       "       'CompetitionOpenSinceYear', 'Promo2SinceWeek', 'Promo2SinceYear',\n",
       "       'StoreType', 'Assortment'],\n",
       "      dtype='object')"
      ]
     },
     "execution_count": 41,
     "metadata": {},
     "output_type": "execute_result"
    }
   ],
   "source": [
    "final_df.columns"
   ]
  },
  {
   "cell_type": "markdown",
   "metadata": {},
   "source": [
    "## 🎁Modelling"
   ]
  },
  {
   "cell_type": "code",
   "execution_count": 26,
   "metadata": {},
   "outputs": [],
   "source": [
    "# Splitting the data\n",
    "X = final_df.drop('Sales', axis=1)\n",
    "y = final_df['Sales']\n",
    "X_train, X_test, y_train, y_test = train_test_split(X, y, test_size=0.25, random_state=42)"
   ]
  },
  {
   "cell_type": "code",
   "execution_count": 27,
   "metadata": {
    "collapsed": true
   },
   "outputs": [
    {
     "name": "stderr",
     "output_type": "stream",
     "text": [
      "[Parallel(n_jobs=1)]: Using backend SequentialBackend with 1 concurrent workers.\n"
     ]
    },
    {
     "name": "stdout",
     "output_type": "stream",
     "text": [
      "building tree 1 of 150\n"
     ]
    },
    {
     "name": "stderr",
     "output_type": "stream",
     "text": [
      "[Parallel(n_jobs=1)]: Done   1 out of   1 | elapsed:    4.2s remaining:    0.0s\n"
     ]
    },
    {
     "name": "stdout",
     "output_type": "stream",
     "text": [
      "building tree 2 of 150\n",
      "building tree 3 of 150\n",
      "building tree 4 of 150\n",
      "building tree 5 of 150\n",
      "building tree 6 of 150\n",
      "building tree 7 of 150\n",
      "building tree 8 of 150\n",
      "building tree 9 of 150\n",
      "building tree 10 of 150\n",
      "building tree 11 of 150\n",
      "building tree 12 of 150\n",
      "building tree 13 of 150\n",
      "building tree 14 of 150\n",
      "building tree 15 of 150\n",
      "building tree 16 of 150\n",
      "building tree 17 of 150\n",
      "building tree 18 of 150\n",
      "building tree 19 of 150\n",
      "building tree 20 of 150\n",
      "building tree 21 of 150\n",
      "building tree 22 of 150\n",
      "building tree 23 of 150\n",
      "building tree 24 of 150\n",
      "building tree 25 of 150\n",
      "building tree 26 of 150\n",
      "building tree 27 of 150\n",
      "building tree 28 of 150\n",
      "building tree 29 of 150\n",
      "building tree 30 of 150\n",
      "building tree 31 of 150\n",
      "building tree 32 of 150\n",
      "building tree 33 of 150\n",
      "building tree 34 of 150\n",
      "building tree 35 of 150\n",
      "building tree 36 of 150\n",
      "building tree 37 of 150\n",
      "building tree 38 of 150\n",
      "building tree 39 of 150\n",
      "building tree 40 of 150\n",
      "building tree 41 of 150\n",
      "building tree 42 of 150\n",
      "building tree 43 of 150\n",
      "building tree 44 of 150\n",
      "building tree 45 of 150\n",
      "building tree 46 of 150\n",
      "building tree 47 of 150\n",
      "building tree 48 of 150\n",
      "building tree 49 of 150\n",
      "building tree 50 of 150\n",
      "building tree 51 of 150\n",
      "building tree 52 of 150\n",
      "building tree 53 of 150\n",
      "building tree 54 of 150\n",
      "building tree 55 of 150\n",
      "building tree 56 of 150\n",
      "building tree 57 of 150\n",
      "building tree 58 of 150\n",
      "building tree 59 of 150\n",
      "building tree 60 of 150\n",
      "building tree 61 of 150\n",
      "building tree 62 of 150\n",
      "building tree 63 of 150\n",
      "building tree 64 of 150\n",
      "building tree 65 of 150\n",
      "building tree 66 of 150\n",
      "building tree 67 of 150\n",
      "building tree 68 of 150\n",
      "building tree 69 of 150\n",
      "building tree 70 of 150\n",
      "building tree 71 of 150\n",
      "building tree 72 of 150\n",
      "building tree 73 of 150\n",
      "building tree 74 of 150\n",
      "building tree 75 of 150\n",
      "building tree 76 of 150\n",
      "building tree 77 of 150\n",
      "building tree 78 of 150\n",
      "building tree 79 of 150\n",
      "building tree 80 of 150\n",
      "building tree 81 of 150\n",
      "building tree 82 of 150\n",
      "building tree 83 of 150\n",
      "building tree 84 of 150\n",
      "building tree 85 of 150\n",
      "building tree 86 of 150\n",
      "building tree 87 of 150\n",
      "building tree 88 of 150\n",
      "building tree 89 of 150\n",
      "building tree 90 of 150\n",
      "building tree 91 of 150\n",
      "building tree 92 of 150\n",
      "building tree 93 of 150\n",
      "building tree 94 of 150\n",
      "building tree 95 of 150\n",
      "building tree 96 of 150\n",
      "building tree 97 of 150\n",
      "building tree 98 of 150\n",
      "building tree 99 of 150\n",
      "building tree 100 of 150\n",
      "building tree 101 of 150\n",
      "building tree 102 of 150\n",
      "building tree 103 of 150\n",
      "building tree 104 of 150\n",
      "building tree 105 of 150\n",
      "building tree 106 of 150\n",
      "building tree 107 of 150\n",
      "building tree 108 of 150\n",
      "building tree 109 of 150\n",
      "building tree 110 of 150\n",
      "building tree 111 of 150\n",
      "building tree 112 of 150\n",
      "building tree 113 of 150\n",
      "building tree 114 of 150\n",
      "building tree 115 of 150\n",
      "building tree 116 of 150\n",
      "building tree 117 of 150\n",
      "building tree 118 of 150\n",
      "building tree 119 of 150\n",
      "building tree 120 of 150\n",
      "building tree 121 of 150\n",
      "building tree 122 of 150\n",
      "building tree 123 of 150\n",
      "building tree 124 of 150\n",
      "building tree 125 of 150\n",
      "building tree 126 of 150\n",
      "building tree 127 of 150\n",
      "building tree 128 of 150\n",
      "building tree 129 of 150\n",
      "building tree 130 of 150\n",
      "building tree 131 of 150\n",
      "building tree 132 of 150\n",
      "building tree 133 of 150\n",
      "building tree 134 of 150\n",
      "building tree 135 of 150\n",
      "building tree 136 of 150\n",
      "building tree 137 of 150\n",
      "building tree 138 of 150\n",
      "building tree 139 of 150\n",
      "building tree 140 of 150\n",
      "building tree 141 of 150\n",
      "building tree 142 of 150\n",
      "building tree 143 of 150\n",
      "building tree 144 of 150\n",
      "building tree 145 of 150\n",
      "building tree 146 of 150\n",
      "building tree 147 of 150\n",
      "building tree 148 of 150\n",
      "building tree 149 of 150\n",
      "building tree 150 of 150\n"
     ]
    },
    {
     "name": "stderr",
     "output_type": "stream",
     "text": [
      "[Parallel(n_jobs=1)]: Done 150 out of 150 | elapsed: 10.0min finished\n"
     ]
    },
    {
     "data": {
      "text/plain": [
       "RandomForestRegressor(bootstrap=False, max_depth=80, min_samples_leaf=2,\n",
       "                      min_samples_split=5, n_estimators=150, verbose=2)"
      ]
     },
     "execution_count": 27,
     "metadata": {},
     "output_type": "execute_result"
    }
   ],
   "source": [
    "RFR = RandomForestRegressor(n_estimators=150, max_depth=80, min_samples_leaf=2, min_samples_split=5, bootstrap=False, verbose=2)\n",
    "RFR.fit(X_train, y_train)"
   ]
  },
  {
   "cell_type": "code",
   "execution_count": 28,
   "metadata": {},
   "outputs": [],
   "source": [
    "pickle.dump(RFR, open(\"RFModel3.pkl\",\"wb\"))"
   ]
  },
  {
   "cell_type": "code",
   "execution_count": null,
   "metadata": {},
   "outputs": [],
   "source": []
  },
  {
   "cell_type": "code",
   "execution_count": 29,
   "metadata": {},
   "outputs": [],
   "source": [
    "load_model_random_rf = pickle.load(open('RFModel3.pkl','rb'))"
   ]
  },
  {
   "cell_type": "code",
   "execution_count": 5,
   "metadata": {
    "scrolled": true
   },
   "outputs": [
    {
     "data": {
      "text/plain": [
       "('criterion',\n",
       " 'max_depth',\n",
       " 'min_samples_split',\n",
       " 'min_samples_leaf',\n",
       " 'min_weight_fraction_leaf',\n",
       " 'max_features',\n",
       " 'max_leaf_nodes',\n",
       " 'min_impurity_decrease',\n",
       " 'min_impurity_split',\n",
       " 'random_state',\n",
       " 'ccp_alpha')"
      ]
     },
     "execution_count": 5,
     "metadata": {},
     "output_type": "execute_result"
    }
   ],
   "source": [
    "load_model_random_rf.estimator_params"
   ]
  },
  {
   "cell_type": "code",
   "execution_count": 32,
   "metadata": {},
   "outputs": [],
   "source": [
    "columns = ['Store', 'DayOfWeek', 'Promo', 'SchoolHoliday', 'year',\n",
    "       'dayofyear', 'weekofyear', 'week', 'is_month_end', 'WeekOfMonth',\n",
    "       'Promo2', 'CompetitionDistance', 'CompetitionOpenSinceMonth',\n",
    "       'CompetitionOpenSinceYear', 'Promo2SinceWeek', 'Promo2SinceYear',\n",
    "       'StoreType', 'Assortment']"
   ]
  },
  {
   "cell_type": "code",
   "execution_count": 33,
   "metadata": {},
   "outputs": [
    {
     "data": {
      "text/plain": [
       "<AxesSubplot:>"
      ]
     },
     "execution_count": 33,
     "metadata": {},
     "output_type": "execute_result"
    },
    {
     "data": {
      "image/png": "[encoded data removed]",
      "text/plain": [
       "<Figure size 864x504 with 1 Axes>"
      ]
     },
     "metadata": {
      "needs_background": "light"
     },
     "output_type": "display_data"
    }
   ],
   "source": [
    "(pd.Series(load_model_random_rf.feature_importances_, index=columns)\n",
    " .nlargest(50)\n",
    "   .plot(kind='barh', figsize=(12,7))) "
   ]
  },
  {
   "cell_type": "code",
   "execution_count": null,
   "metadata": {},
   "outputs": [],
   "source": [
    "columns_to_drop = ['Open', 'month','quarter', 'is_month_start', \n",
    "                   'is_year_end', 'is_year_start','StateHolidayCat','Jan',\n",
    "       'Feb', 'Mar', 'Apr', 'May', 'Jun', 'Jul', 'Aug', 'Sep', 'Oct', 'Nov',\n",
    "       'Dec']"
   ]
  },
  {
   "cell_type": "code",
   "execution_count": null,
   "metadata": {},
   "outputs": [],
   "source": []
  },
  {
   "cell_type": "code",
   "execution_count": null,
   "metadata": {},
   "outputs": [],
   "source": []
  },
  {
   "cell_type": "code",
   "execution_count": 34,
   "metadata": {},
   "outputs": [
    {
     "name": "stderr",
     "output_type": "stream",
     "text": [
      "[Parallel(n_jobs=1)]: Using backend SequentialBackend with 1 concurrent workers.\n",
      "[Parallel(n_jobs=1)]: Done   1 out of   1 | elapsed:    0.0s remaining:    0.0s\n",
      "[Parallel(n_jobs=1)]: Done 150 out of 150 | elapsed:    9.2s finished\n"
     ]
    },
    {
     "data": {
      "text/plain": [
       "0.8379052026856333"
      ]
     },
     "execution_count": 34,
     "metadata": {},
     "output_type": "execute_result"
    }
   ],
   "source": [
    "load_model_random_rf.score(X_test, y_test)"
   ]
  },
  {
   "cell_type": "code",
   "execution_count": 35,
   "metadata": {},
   "outputs": [
    {
     "name": "stderr",
     "output_type": "stream",
     "text": [
      "[Parallel(n_jobs=1)]: Using backend SequentialBackend with 1 concurrent workers.\n",
      "[Parallel(n_jobs=1)]: Done   1 out of   1 | elapsed:    0.0s remaining:    0.0s\n",
      "[Parallel(n_jobs=1)]: Done 150 out of 150 | elapsed:    9.1s finished\n"
     ]
    },
    {
     "data": {
      "text/plain": [
       "2495330.8818656546"
      ]
     },
     "execution_count": 35,
     "metadata": {},
     "output_type": "execute_result"
    }
   ],
   "source": [
    "mean_squared_error(y_test, load_model_random_rf.predict(X_test))"
   ]
  },
  {
   "cell_type": "code",
   "execution_count": 42,
   "metadata": {},
   "outputs": [
    {
     "name": "stderr",
     "output_type": "stream",
     "text": [
      "[Parallel(n_jobs=1)]: Using backend SequentialBackend with 1 concurrent workers.\n",
      "[Parallel(n_jobs=1)]: Done   1 out of   1 | elapsed:    0.0s remaining:    0.0s\n",
      "[Parallel(n_jobs=1)]: Done 150 out of 150 | elapsed:   14.9s finished\n"
     ]
    }
   ],
   "source": [
    "# Testing\n",
    "results = load_model_random_rf.predict(final_df)"
   ]
  },
  {
   "cell_type": "code",
   "execution_count": 43,
   "metadata": {},
   "outputs": [
    {
     "name": "stdout",
     "output_type": "stream",
     "text": [
      "<class 'pandas.core.frame.DataFrame'>\n",
      "RangeIndex: 305163 entries, 0 to 305162\n",
      "Data columns (total 2 columns):\n",
      " #   Column  Non-Null Count   Dtype  \n",
      "---  ------  --------------   -----  \n",
      " 0   Index   305163 non-null  int32  \n",
      " 1   Sales   305163 non-null  float64\n",
      "dtypes: float64(1), int32(1)\n",
      "memory usage: 3.5 MB\n",
      "None\n",
      "   Index   Sales\n",
      "0      0     0.0\n",
      "1      1  3481.0\n",
      "2      2  5915.0\n",
      "3      3  4093.0\n",
      "4      4  7251.0\n"
     ]
    }
   ],
   "source": [
    "df_results = pd.DataFrame(results, index = None)\n",
    "#Remove all negative\n",
    "df_results[df_results < 0] = 0\n",
    "df_results[\"Index\"]=range(0, len(df_results))\n",
    "df_results.columns=[\"Sales\",\"Index\"]\n",
    "\n",
    "columns_titles = [\"Index\",\"Sales\"]\n",
    "df_results=df_results.reindex(columns=columns_titles)\n",
    "#Apply Up on the Sales column\n",
    "df_results['Sales'] = df_results['Sales'].apply(np.ceil)\n",
    "print(df_results.info())\n",
    "print(df_results.head())\n",
    "df_results.to_csv(\"outputm4.csv\", index=False)"
   ]
  },
  {
   "cell_type": "code",
   "execution_count": null,
   "metadata": {},
   "outputs": [],
   "source": []
  }
 ],
 "metadata": {
  "kernelspec": {
   "display_name": "Python 3",
   "language": "python",
   "name": "python3"
  },
  "language_info": {
   "codemirror_mode": {
    "name": "ipython",
    "version": 3
   },
   "file_extension": ".py",
   "mimetype": "text/x-python",
   "name": "python",
   "nbconvert_exporter": "python",
   "pygments_lexer": "ipython3",
   "version": "3.8.5"
  }
 },
 "nbformat": 4,
 "nbformat_minor": 4
}
