{
 "cells": [
  {
   "cell_type": "markdown",
   "metadata": {},
   "source": [
    "# 🎂 Segmind Challenge : Prediction of Sales of each Store🎂\n",
    "\n",
    "## TO DO:\n",
    "\n",
    "> Predict store sales of a store using the given dataset.\n",
    "\n",
    "## Data:\n",
    "> Dataset Given\n",
    "\n",
    "* The dataset consists of 4 CSV files:\n",
    "* TRAIN.csv : (./dataset/TRAIN.csv)\n",
    "* TEST.csv: (./dataset/TEST.csv)\n",
    "* store.csv - additional information regarding the stores: (./dataset/store.csv)\n",
    "\n",
    "## Evaluate:\n",
    "* Time-series prediction problem.\n",
    "* Sales has direct correlation to OPEN or not\n",
    "\n",
    "## Features:\n",
    "> From Test data\n",
    "\n",
    "* Store: Store number\n",
    "* DayOfWeek: Day (out of 7) per week\n",
    "* Date: DD-MM-YYYY format\n",
    "* Open: 1 for open, 0 for close\n",
    "* Promo: 0 or 1 \n",
    "* StateHoliday: 0, a, b, c (0 or store type)\n",
    "* SchoolHoliday: 0 or 1"
   ]
  },
  {
   "cell_type": "markdown",
   "metadata": {},
   "source": [
    "## 🤳Imports"
   ]
  },
  {
   "cell_type": "code",
   "execution_count": 15,
   "metadata": {},
   "outputs": [],
   "source": [
    "# Essentials\n",
    "import sys\n",
    "import numpy as np\n",
    "import pandas as pd\n",
    "import matplotlib.pyplot as plt\n",
    "\n",
    "import seaborn as sns\n",
    "from pandas.plotting import scatter_matrix\n",
    "from sklearn.preprocessing import OneHotEncoder, StandardScaler, LabelEncoder, OrdinalEncoder\n",
    "from sklearn.impute import SimpleImputer\n",
    "from sklearn.pipeline import Pipeline\n",
    "from sklearn.compose import ColumnTransformer\n",
    "from dateutil.parser import parse\n",
    "from math import ceil\n",
    "from sklearn.model_selection import train_test_split, RandomizedSearchCV, GridSearchCV\n",
    "from sklearn.linear_model import ElasticNet, Lasso, SGDRegressor, BayesianRidge\n",
    "from sklearn.tree import DecisionTreeRegressor\n",
    "from sklearn.svm import SVR\n",
    "from sklearn.neural_network import MLPRegressor\n",
    "from sklearn.ensemble import AdaBoostRegressor,ExtraTreesRegressor,GradientBoostingRegressor,RandomForestRegressor\n",
    "import xgboost\n",
    "from sklearn.metrics import mean_squared_error, mean_absolute_error, r2_score\n",
    "from pprint import pprint\n",
    "\n",
    "import pickle"
   ]
  },
  {
   "cell_type": "markdown",
   "metadata": {},
   "source": [
    "## 💚Inputs"
   ]
  },
  {
   "cell_type": "code",
   "execution_count": 14,
   "metadata": {},
   "outputs": [],
   "source": [
    "# Store data\n",
    "def import_store():\n",
    "    storedf = pd.read_csv('./dataset/store.csv')\n",
    "    return storedf\n",
    "# Sales data\n",
    "def import_data(x):\n",
    "    df = pd.read_csv('./dataset/'+x+'.csv')\n",
    "    return df"
   ]
  },
  {
   "cell_type": "markdown",
   "metadata": {},
   "source": [
    "## 💌Total preprocessing"
   ]
  },
  {
   "cell_type": "code",
   "execution_count": 3,
   "metadata": {},
   "outputs": [],
   "source": [
    "# Store attributes\n",
    "months = ['Jan','Feb','Mar','Apr','May','Jun','Jul','Aug','Sep','Oct','Nov','Dec']\n",
    "months_with_store = ['Store','Jan','Feb','Mar','Apr','May','Jun','Jul','Aug','Sep','Oct','Nov','Dec']\n",
    "num_attribs = [\"CompetitionDistance\",\n",
    "               \"CompetitionOpenSinceMonth\",\n",
    "               \"CompetitionOpenSinceYear\",\n",
    "               \"Promo2SinceWeek\",\n",
    "               \"Promo2SinceYear\"]\n",
    "# scale_attribs = [\"CompetitionDistance\"]\n",
    "obj_attribs = [\"StoreType\", \"Assortment\"]"
   ]
  },
  {
   "cell_type": "code",
   "execution_count": 4,
   "metadata": {},
   "outputs": [],
   "source": [
    "# Store Pipelines\n",
    "\n",
    "# cd_pipeline_median = Pipeline([\n",
    "#     (\"imputer\", SimpleImputer(strategy='median')),\n",
    "#     (\"stdscale\", StandardScaler())\n",
    "# ])\n",
    "\n",
    "# cd_pipeline_mean = Pipeline([\n",
    "#     (\"imputer\", SimpleImputer(strategy='mean')),\n",
    "#     (\"stdscale\", StandardScaler())\n",
    "# ])\n",
    "\n",
    "# cd_pipeline_mode = Pipeline([\n",
    "#     (\"imputer\", SimpleImputer(strategy='most_frequent')),\n",
    "#     (\"stdscale\", StandardScaler())\n",
    "# ])\n",
    "\n",
    "full_pipeline_median = ColumnTransformer([\n",
    "    (\"num\", SimpleImputer(strategy='median'), num_attribs),\n",
    "    (\"cat\", OrdinalEncoder(), obj_attribs)\n",
    "])\n",
    "\n",
    "full_pipeline_mean = ColumnTransformer([\n",
    "    (\"num\", SimpleImputer(strategy='mean'), num_attribs),\n",
    "    (\"cat\", OrdinalEncoder(), obj_attribs)\n",
    "])\n",
    "\n",
    "full_pipeline_mode = ColumnTransformer([\n",
    "    (\"num\", SimpleImputer(strategy='most_frequent'), num_attribs),\n",
    "    (\"cat\", OrdinalEncoder(), obj_attribs)\n",
    "])"
   ]
  },
  {
   "cell_type": "code",
   "execution_count": 5,
   "metadata": {},
   "outputs": [],
   "source": [
    "# Sore Preprocessing\n",
    "\n",
    "def divide_promointerval():\n",
    "    '''\n",
    "    1. Fillna with '0' in PROMOINTERVAL\n",
    "    2. Dividing PromoInterval into months and applying custom one hot encoding\n",
    "    4. Drop PROMOINTERVAL\n",
    "    ----------\n",
    "    PARAMETERS\n",
    "    ----------\n",
    "    NA\n",
    "    -------\n",
    "    RETURNS\n",
    "    -------    \n",
    "    test: DF after divinding the Promointerval into months\n",
    "    '''\n",
    "    store['PromoInterval'].fillna(value='0', inplace=True)\n",
    "    test = pd.DataFrame(data=store.Store, columns=months_with_store)\n",
    "    for month in months:\n",
    "        test[month] = np.where(store[\"PromoInterval\"].str.contains(month), 1, 0)\n",
    "    if 'PromoInterval' in store.columns:    \n",
    "        store.drop('PromoInterval', inplace=True, axis=1)    \n",
    "    return test\n",
    "\n",
    "def drop_store_columns():\n",
    "    '''\n",
    "    Dropping columns after preprocessing.\n",
    "    '''\n",
    "    for attri in num_attribs:\n",
    "        if attri in store.columns:\n",
    "            store.drop(attri, inplace=True, axis=1)\n",
    "    for attri in obj_attribs:\n",
    "        if attri in store.columns:\n",
    "            store.drop(attri, inplace=True, axis=1)         "
   ]
  },
  {
   "cell_type": "code",
   "execution_count": 8,
   "metadata": {},
   "outputs": [],
   "source": [
    "# Store transformation\n",
    "store = import_store()\n",
    "store_tranformed = full_pipeline_median.fit_transform(store)\n",
    "drop_store_columns()\n",
    "store_prepared = pd.DataFrame(data=store_tranformed, columns=(num_attribs+obj_attribs), index=store.index)\n",
    "store = store.join(store_prepared)\n",
    "month_df = divide_promointerval()\n",
    "store_df = pd.merge(left=store, right=month_df, on='Store')"
   ]
  },
  {
   "cell_type": "code",
   "execution_count": 9,
   "metadata": {},
   "outputs": [],
   "source": [
    "# Data Preprocessing\n",
    "def week_of_month(tgtdate):\n",
    "    date = parse(tgtdate)\n",
    "    first_day = date.replace(day=1)\n",
    "\n",
    "    day_of_month = date.day\n",
    "\n",
    "    if(first_day.weekday() == 6):\n",
    "        adjusted_dom = (1 + first_day.weekday()) / 7\n",
    "    else:\n",
    "        adjusted_dom = day_of_month + first_day.weekday()\n",
    "\n",
    "    return int(ceil(adjusted_dom/7.0))\n",
    "\n",
    "def change_tf(true_false):\n",
    "    if true_false == True:\n",
    "        return 1\n",
    "    else:\n",
    "        return 0\n",
    "\n",
    "def date_preproccesing():\n",
    "    train_df['year'] = pd.DatetimeIndex(train_df['Date']).year\n",
    "    train_df['month'] = pd.DatetimeIndex(train_df['Date']).month\n",
    "    train_df['quarter'] = pd.DatetimeIndex(train_df['Date']).quarter\n",
    "    train_df['dayofyear'] = pd.DatetimeIndex(train_df['Date']).dayofyear\n",
    "    train_df['weekofyear'] = pd.DatetimeIndex(train_df['Date']).weekofyear\n",
    "    train_df['week'] = pd.DatetimeIndex(train_df['Date']).week\n",
    "    train_df['is_month_start'] = pd.DatetimeIndex(train_df['Date']).is_month_start\n",
    "    train_df['is_month_end'] = pd.DatetimeIndex(train_df['Date']).is_month_end\n",
    "    train_df['is_year_end'] = pd.DatetimeIndex(train_df['Date']).is_year_end\n",
    "    train_df['is_year_start'] = pd.DatetimeIndex(train_df['Date']).is_year_start\n",
    "    train_df[\"StateHoliday\"] = train_df[\"StateHoliday\"].apply(lambda x: str(x))\n",
    "    train_df[\"WeekOfMonth\"] = train_df[\"Date\"].apply(week_of_month)\n",
    "    train_df[\"is_month_start\"] = train_df[\"is_month_start\"].apply(lambda x: change_tf(x))\n",
    "    train_df[\"is_month_end\"] = train_df[\"is_month_end\"].apply(lambda x: change_tf(x))\n",
    "    train_df[\"is_year_end\"] = train_df[\"is_year_end\"].apply(lambda x: change_tf(x))\n",
    "    train_df[\"is_year_start\"] = train_df[\"is_year_start\"].apply(lambda x: change_tf(x))\n",
    "\n",
    "def cat_transformation(x):\n",
    "    if 'train' in x:\n",
    "        train_df['StateHolidayCat'] = labelencoder.fit_transform(train_df['StateHoliday'])\n",
    "    else:\n",
    "        train_df['StateHolidayCat'] = labelencoder.transform(train_df['StateHoliday'])\n",
    "\n",
    "def drop_data_columns():\n",
    "    if 'Date' in train_df.columns:\n",
    "        train_df.drop('Date', inplace=True, axis=1)\n",
    "    if 'StateHoliday' in train_df.columns:\n",
    "        train_df.drop('StateHoliday', axis=1, inplace=True)\n",
    "    if 'Customers' in train_df.columns:\n",
    "        train_df.drop('Customers', axis=1, inplace=True)"
   ]
  },
  {
   "cell_type": "code",
   "execution_count": 10,
   "metadata": {},
   "outputs": [],
   "source": [
    "labelencoder = LabelEncoder()"
   ]
  },
  {
   "cell_type": "code",
   "execution_count": 28,
   "metadata": {},
   "outputs": [
    {
     "name": "stderr",
     "output_type": "stream",
     "text": [
      "<ipython-input-9-1c317fd3e691>:26: FutureWarning: weekofyear and week have been deprecated, please use DatetimeIndex.isocalendar().week instead, which returns a Series.  To exactly reproduce the behavior of week and weekofyear and return an Index, you may call pd.Int64Index(idx.isocalendar().week)\n",
      "  train_df['weekofyear'] = pd.DatetimeIndex(train_df['Date']).weekofyear\n",
      "<ipython-input-9-1c317fd3e691>:27: FutureWarning: weekofyear and week have been deprecated, please use DatetimeIndex.isocalendar().week instead, which returns a Series.  To exactly reproduce the behavior of week and weekofyear and return an Index, you may call pd.Int64Index(idx.isocalendar().week)\n",
      "  train_df['week'] = pd.DatetimeIndex(train_df['Date']).week\n"
     ]
    }
   ],
   "source": [
    "# Data transformation\n",
    "# labelencoder = LabelEncoder()\n",
    "train_or_test = 'test' #'test' 'train'\n",
    "train_df = import_data(train_or_test)\n",
    "date_preproccesing()\n",
    "if 'train' in train_or_test:\n",
    "    labelencoder.fit(train_df['StateHoliday'])\n",
    "    train_df['StateHolidayCat'] = labelencoder.transform(train_df['StateHoliday'])\n",
    "#     labelencoder.fit_transform(train_df['StateHoliday'])\n",
    "else:\n",
    "    train_df['StateHolidayCat'] = labelencoder.transform(train_df['StateHoliday'])\n",
    "# train_df['StateHolidayCat'] = labelencoder.transform(train_df['StateHoliday'])\n",
    "# cat_transformation(train_or_test)\n",
    "drop_data_columns()"
   ]
  },
  {
   "cell_type": "code",
   "execution_count": 29,
   "metadata": {},
   "outputs": [],
   "source": [
    "# Final_df\n",
    "# final_df = pd.merge(left=train_df, right=store_df, on='Store')\n",
    "final_df = pd.merge(train_df, store_df, how='left', left_on='Store', right_on='Store')\n",
    "# final_df.drop('Store', axis=1, inplace=True)"
   ]
  },
  {
   "cell_type": "code",
   "execution_count": 30,
   "metadata": {},
   "outputs": [
    {
     "data": {
      "text/plain": [
       "Index(['Store', 'DayOfWeek', 'Open', 'Promo', 'SchoolHoliday', 'year', 'month',\n",
       "       'quarter', 'dayofyear', 'weekofyear', 'week', 'is_month_start',\n",
       "       'is_month_end', 'is_year_end', 'is_year_start', 'WeekOfMonth',\n",
       "       'StateHolidayCat', 'Promo2', 'CompetitionDistance',\n",
       "       'CompetitionOpenSinceMonth', 'CompetitionOpenSinceYear',\n",
       "       'Promo2SinceWeek', 'Promo2SinceYear', 'StoreType', 'Assortment', 'Jan',\n",
       "       'Feb', 'Mar', 'Apr', 'May', 'Jun', 'Jul', 'Aug', 'Sep', 'Oct', 'Nov',\n",
       "       'Dec'],\n",
       "      dtype='object')"
      ]
     },
     "execution_count": 30,
     "metadata": {},
     "output_type": "execute_result"
    }
   ],
   "source": [
    "final_df.columns"
   ]
  },
  {
   "cell_type": "markdown",
   "metadata": {},
   "source": [
    "## 🎁Modelling"
   ]
  },
  {
   "cell_type": "code",
   "execution_count": 19,
   "metadata": {},
   "outputs": [],
   "source": [
    "# Splitting the data\n",
    "X = final_df.drop('Sales', axis=1)\n",
    "y = final_df['Sales']\n",
    "X_train, X_test, y_train, y_test = train_test_split(X, y, test_size=0.25, random_state=42)"
   ]
  },
  {
   "cell_type": "code",
   "execution_count": 16,
   "metadata": {},
   "outputs": [],
   "source": [
    "\"\"\"\n",
    "from sklearn.linear_model import ElasticNet, Lasso, SGDRegressor, BayesianRidge\n",
    "from sklearn.tree import DecisionTreeRegressor\n",
    "from sklearn.svm import SVR\n",
    "from sklearn.neural_network import MLPRegressor\n",
    "from sklearn.ensemble import AdaBoostRegressor,ExtraTreesRegressor,GradientBoostingRegressor,RandomForestRegressor\n",
    "import xgboost\n",
    "\n",
    "models = {\"ElasticNet\" : ElasticNet(),\n",
    "          \"Lasso\" : Lasso(),\n",
    "          \"SGDRegressor\" : SGDRegressor(),\n",
    "          \"BayesianRidge\" : BayesianRidge(),\n",
    "          \"DecisionTreeRegressor\" : DecisionTreeRegressor(),\n",
    "          \"SVR\" : SVR()\n",
    "         }\n",
    "\"\"\"\n",
    "\n",
    "en_model = ElasticNet()\n",
    "lasso = Lasso()\n",
    "SGD = SGDRegressor()\n",
    "BR = BayesianRidge()\n",
    "DTR = DecisionTreeRegressor()\n",
    "# SVR = SVR()\n",
    "MLP = MLPRegressor(max_iter=100,verbose=True)\n",
    "RFR = RandomForestRegressor(verbose=2)\n",
    "xgb = xgboost.XGBRegressor(verbosity=2)\n",
    "\n",
    "models = {\n",
    "    \"MLPRegressor\": MLP,\n",
    "    \"RandomForestRegressor\": RFR,\n",
    "    \"XGBRegressor\": xgb\n",
    "}\n"
   ]
  },
  {
   "cell_type": "code",
   "execution_count": 13,
   "metadata": {},
   "outputs": [],
   "source": [
    "def fit_score(models, X_train, X_test, y_train, y_test):\n",
    "    np.random.seed(42)\n",
    "    model_scores = {}\n",
    "    for name, model in models.items():\n",
    "        print('Model Start!')\n",
    "        model.fit(X_train, y_train)\n",
    "        model_scores[name] = model.score(X_test, y_test)\n",
    "        print('Model End!')\n",
    "    return model_scores"
   ]
  },
  {
   "cell_type": "code",
   "execution_count": 29,
   "metadata": {
    "collapsed": true
   },
   "outputs": [
    {
     "name": "stdout",
     "output_type": "stream",
     "text": [
      "Model Start!\n",
      "Iteration 1, loss = 7721650.45073706\n",
      "Iteration 2, loss = 7074140.20634800\n",
      "Iteration 3, loss = 5996807.75254129\n",
      "Iteration 4, loss = 5029296.57321461\n",
      "Iteration 5, loss = 4571825.39954207\n",
      "Iteration 6, loss = 4314751.04225465\n",
      "Iteration 7, loss = 4106602.14998017\n",
      "Iteration 8, loss = 3958098.09794809\n",
      "Iteration 9, loss = 3825470.57778907\n",
      "Iteration 10, loss = 3720868.66667989\n",
      "Iteration 11, loss = 3640254.10326866\n",
      "Iteration 12, loss = 3571773.92006500\n",
      "Iteration 13, loss = 3515558.79538427\n",
      "Iteration 14, loss = 3458240.61117898\n",
      "Iteration 15, loss = 3415064.18445935\n",
      "Iteration 16, loss = 3386019.34981275\n",
      "Iteration 17, loss = 3354930.61525069\n",
      "Iteration 18, loss = 3334383.44521876\n",
      "Iteration 19, loss = 3316293.93764410\n",
      "Iteration 20, loss = 3302711.93049922\n",
      "Iteration 21, loss = 3285751.38218157\n",
      "Iteration 22, loss = 3283565.61674669\n",
      "Iteration 23, loss = 3266745.17847074\n",
      "Iteration 24, loss = 3259539.59354565\n",
      "Iteration 25, loss = 3246214.02095140\n",
      "Iteration 26, loss = 3237154.93285000\n",
      "Iteration 27, loss = 3231719.13011733\n",
      "Iteration 28, loss = 3214835.64054240\n",
      "Iteration 29, loss = 3209504.71945670\n",
      "Iteration 30, loss = 3199789.94645311\n",
      "Iteration 31, loss = 3186040.44574980\n",
      "Iteration 32, loss = 3180285.25821553\n",
      "Iteration 33, loss = 3174103.36852584\n",
      "Iteration 34, loss = 3177246.79049867\n",
      "Iteration 35, loss = 3168026.09738136\n",
      "Iteration 36, loss = 3162733.98377270\n",
      "Iteration 37, loss = 3160495.20050498\n",
      "Iteration 38, loss = 3150295.07092647\n",
      "Iteration 39, loss = 3147762.59003110\n",
      "Iteration 40, loss = 3155694.63797763\n",
      "Iteration 41, loss = 3146142.96908111\n",
      "Iteration 42, loss = 3150709.74727696\n",
      "Iteration 43, loss = 3135292.12022895\n",
      "Iteration 44, loss = 3134227.41882740\n",
      "Iteration 45, loss = 3127169.18221685\n",
      "Iteration 46, loss = 3122230.07756482\n",
      "Iteration 47, loss = 3132370.75179564\n",
      "Iteration 48, loss = 3124907.37814259\n",
      "Iteration 49, loss = 3126921.78829646\n",
      "Iteration 50, loss = 3114152.51579323\n",
      "Iteration 51, loss = 3118281.78704240\n",
      "Iteration 52, loss = 3119653.37372150\n",
      "Iteration 53, loss = 3113293.55149071\n",
      "Iteration 54, loss = 3117320.74598130\n",
      "Iteration 55, loss = 3110392.42053304\n",
      "Iteration 56, loss = 3114742.19131880\n",
      "Iteration 57, loss = 3113861.55243617\n",
      "Iteration 58, loss = 3109278.67809527\n",
      "Iteration 59, loss = 3095258.35572609\n",
      "Iteration 60, loss = 3111544.58285237\n",
      "Iteration 61, loss = 3097970.67197602\n",
      "Iteration 62, loss = 3095878.71817857\n",
      "Iteration 63, loss = 3098378.71278020\n",
      "Iteration 64, loss = 3095956.45270333\n",
      "Iteration 65, loss = 3108081.36682758\n",
      "Iteration 66, loss = 3094192.34567634\n",
      "Iteration 67, loss = 3096547.61500936\n",
      "Iteration 68, loss = 3089665.96416866\n",
      "Iteration 69, loss = 3093128.46060587\n",
      "Iteration 70, loss = 3086825.06752089\n",
      "Iteration 71, loss = 3095931.36470729\n",
      "Iteration 72, loss = 3092375.62490750\n",
      "Iteration 73, loss = 3091913.60201573\n",
      "Iteration 74, loss = 3089117.03751540\n",
      "Iteration 75, loss = 3082725.58424865\n",
      "Iteration 76, loss = 3086346.72713974\n",
      "Iteration 77, loss = 3086178.17315772\n",
      "Iteration 78, loss = 3078752.62953932\n",
      "Iteration 79, loss = 3088477.93600366\n",
      "Iteration 80, loss = 3079870.56681878\n",
      "Iteration 81, loss = 3083962.27988203\n",
      "Iteration 82, loss = 3080974.13763768\n",
      "Iteration 83, loss = 3076873.94438211\n",
      "Iteration 84, loss = 3074728.77074042\n",
      "Iteration 85, loss = 3077287.58000542\n",
      "Iteration 86, loss = 3078633.28227414\n",
      "Iteration 87, loss = 3075949.51491365\n",
      "Iteration 88, loss = 3075139.22354732\n",
      "Iteration 89, loss = 3078747.26731484\n",
      "Iteration 90, loss = 3072705.11507725\n",
      "Iteration 91, loss = 3064559.35613908\n",
      "Iteration 92, loss = 3066880.21617366\n",
      "Iteration 93, loss = 3068829.45432456\n",
      "Iteration 94, loss = 3067489.93043279\n",
      "Iteration 95, loss = 3068805.92790557\n",
      "Iteration 96, loss = 3067070.33306710\n",
      "Iteration 97, loss = 3061680.84731250\n",
      "Iteration 98, loss = 3062553.64515536\n",
      "Iteration 99, loss = 3061428.90587899\n",
      "Iteration 100, loss = 3062177.76848309\n"
     ]
    },
    {
     "name": "stderr",
     "output_type": "stream",
     "text": [
      "C:\\Users\\rishi\\anaconda3\\lib\\site-packages\\sklearn\\neural_network\\_multilayer_perceptron.py:582: ConvergenceWarning: Stochastic Optimizer: Maximum iterations (100) reached and the optimization hasn't converged yet.\n",
      "  warnings.warn(\n"
     ]
    },
    {
     "name": "stdout",
     "output_type": "stream",
     "text": [
      "Model End!\n",
      "Model Start!\n",
      "building tree 1 of 100\n"
     ]
    },
    {
     "name": "stderr",
     "output_type": "stream",
     "text": [
      "[Parallel(n_jobs=1)]: Using backend SequentialBackend with 1 concurrent workers.\n",
      "[Parallel(n_jobs=1)]: Done   1 out of   1 | elapsed:    3.6s remaining:    0.0s\n"
     ]
    },
    {
     "name": "stdout",
     "output_type": "stream",
     "text": [
      "building tree 2 of 100\n",
      "building tree 3 of 100\n",
      "building tree 4 of 100\n",
      "building tree 5 of 100\n",
      "building tree 6 of 100\n",
      "building tree 7 of 100\n",
      "building tree 8 of 100\n",
      "building tree 9 of 100\n",
      "building tree 10 of 100\n",
      "building tree 11 of 100\n",
      "building tree 12 of 100\n",
      "building tree 13 of 100\n",
      "building tree 14 of 100\n",
      "building tree 15 of 100\n",
      "building tree 16 of 100\n",
      "building tree 17 of 100\n",
      "building tree 18 of 100\n",
      "building tree 19 of 100\n",
      "building tree 20 of 100\n",
      "building tree 21 of 100\n",
      "building tree 22 of 100\n",
      "building tree 23 of 100\n",
      "building tree 24 of 100\n",
      "building tree 25 of 100\n",
      "building tree 26 of 100\n",
      "building tree 27 of 100\n",
      "building tree 28 of 100\n",
      "building tree 29 of 100\n",
      "building tree 30 of 100\n",
      "building tree 31 of 100\n",
      "building tree 32 of 100\n",
      "building tree 33 of 100\n",
      "building tree 34 of 100\n",
      "building tree 35 of 100\n",
      "building tree 36 of 100\n",
      "building tree 37 of 100\n",
      "building tree 38 of 100\n",
      "building tree 39 of 100\n",
      "building tree 40 of 100\n",
      "building tree 41 of 100\n",
      "building tree 42 of 100\n",
      "building tree 43 of 100\n",
      "building tree 44 of 100\n",
      "building tree 45 of 100\n",
      "building tree 46 of 100\n",
      "building tree 47 of 100\n",
      "building tree 48 of 100\n",
      "building tree 49 of 100\n",
      "building tree 50 of 100\n",
      "building tree 51 of 100\n",
      "building tree 52 of 100\n",
      "building tree 53 of 100\n",
      "building tree 54 of 100\n",
      "building tree 55 of 100\n",
      "building tree 56 of 100\n",
      "building tree 57 of 100\n",
      "building tree 58 of 100\n",
      "building tree 59 of 100\n",
      "building tree 60 of 100\n",
      "building tree 61 of 100\n",
      "building tree 62 of 100\n",
      "building tree 63 of 100\n",
      "building tree 64 of 100\n",
      "building tree 65 of 100\n",
      "building tree 66 of 100\n",
      "building tree 67 of 100\n",
      "building tree 68 of 100\n",
      "building tree 69 of 100\n",
      "building tree 70 of 100\n",
      "building tree 71 of 100\n",
      "building tree 72 of 100\n",
      "building tree 73 of 100\n",
      "building tree 74 of 100\n",
      "building tree 75 of 100\n",
      "building tree 76 of 100\n",
      "building tree 77 of 100\n",
      "building tree 78 of 100\n",
      "building tree 79 of 100\n",
      "building tree 80 of 100\n",
      "building tree 81 of 100\n",
      "building tree 82 of 100\n",
      "building tree 83 of 100\n",
      "building tree 84 of 100\n",
      "building tree 85 of 100\n",
      "building tree 86 of 100\n",
      "building tree 87 of 100\n",
      "building tree 88 of 100\n",
      "building tree 89 of 100\n",
      "building tree 90 of 100\n",
      "building tree 91 of 100\n",
      "building tree 92 of 100\n",
      "building tree 93 of 100\n",
      "building tree 94 of 100\n",
      "building tree 95 of 100\n",
      "building tree 96 of 100\n",
      "building tree 97 of 100\n",
      "building tree 98 of 100\n",
      "building tree 99 of 100\n",
      "building tree 100 of 100\n"
     ]
    },
    {
     "name": "stderr",
     "output_type": "stream",
     "text": [
      "[Parallel(n_jobs=1)]: Done 100 out of 100 | elapsed:  6.2min finished\n",
      "[Parallel(n_jobs=1)]: Using backend SequentialBackend with 1 concurrent workers.\n",
      "[Parallel(n_jobs=1)]: Done   1 out of   1 | elapsed:    0.0s remaining:    0.0s\n",
      "[Parallel(n_jobs=1)]: Done 100 out of 100 | elapsed:    7.0s finished\n"
     ]
    },
    {
     "name": "stdout",
     "output_type": "stream",
     "text": [
      "Model End!\n",
      "Model Start!\n",
      "[00:36:33] INFO: ..\\src\\tree\\updater_prune.cc:101: tree pruning end, 64 extra nodes, 0 pruned nodes, max_depth=6\n",
      "[00:36:33] INFO: ..\\src\\tree\\updater_prune.cc:101: tree pruning end, 64 extra nodes, 0 pruned nodes, max_depth=6\n",
      "[00:36:33] INFO: ..\\src\\tree\\updater_prune.cc:101: tree pruning end, 64 extra nodes, 0 pruned nodes, max_depth=6\n",
      "[00:36:33] INFO: ..\\src\\tree\\updater_prune.cc:101: tree pruning end, 64 extra nodes, 0 pruned nodes, max_depth=6\n",
      "[00:36:34] INFO: ..\\src\\tree\\updater_prune.cc:101: tree pruning end, 64 extra nodes, 0 pruned nodes, max_depth=6\n",
      "[00:36:34] INFO: ..\\src\\tree\\updater_prune.cc:101: tree pruning end, 64 extra nodes, 0 pruned nodes, max_depth=6\n",
      "[00:36:34] INFO: ..\\src\\tree\\updater_prune.cc:101: tree pruning end, 64 extra nodes, 0 pruned nodes, max_depth=6\n",
      "[00:36:34] INFO: ..\\src\\tree\\updater_prune.cc:101: tree pruning end, 64 extra nodes, 0 pruned nodes, max_depth=6\n",
      "[00:36:34] INFO: ..\\src\\tree\\updater_prune.cc:101: tree pruning end, 64 extra nodes, 0 pruned nodes, max_depth=6\n",
      "[00:36:34] INFO: ..\\src\\tree\\updater_prune.cc:101: tree pruning end, 64 extra nodes, 0 pruned nodes, max_depth=6\n",
      "[00:36:35] INFO: ..\\src\\tree\\updater_prune.cc:101: tree pruning end, 124 extra nodes, 0 pruned nodes, max_depth=6\n",
      "[00:36:35] INFO: ..\\src\\tree\\updater_prune.cc:101: tree pruning end, 126 extra nodes, 0 pruned nodes, max_depth=6\n",
      "[00:36:35] INFO: ..\\src\\tree\\updater_prune.cc:101: tree pruning end, 124 extra nodes, 0 pruned nodes, max_depth=6\n",
      "[00:36:35] INFO: ..\\src\\tree\\updater_prune.cc:101: tree pruning end, 126 extra nodes, 0 pruned nodes, max_depth=6\n",
      "[00:36:35] INFO: ..\\src\\tree\\updater_prune.cc:101: tree pruning end, 126 extra nodes, 0 pruned nodes, max_depth=6\n",
      "[00:36:35] INFO: ..\\src\\tree\\updater_prune.cc:101: tree pruning end, 124 extra nodes, 0 pruned nodes, max_depth=6\n",
      "[00:36:36] INFO: ..\\src\\tree\\updater_prune.cc:101: tree pruning end, 120 extra nodes, 0 pruned nodes, max_depth=6\n",
      "[00:36:36] INFO: ..\\src\\tree\\updater_prune.cc:101: tree pruning end, 126 extra nodes, 0 pruned nodes, max_depth=6\n",
      "[00:36:36] INFO: ..\\src\\tree\\updater_prune.cc:101: tree pruning end, 118 extra nodes, 0 pruned nodes, max_depth=6\n",
      "[00:36:36] INFO: ..\\src\\tree\\updater_prune.cc:101: tree pruning end, 126 extra nodes, 0 pruned nodes, max_depth=6\n",
      "[00:36:36] INFO: ..\\src\\tree\\updater_prune.cc:101: tree pruning end, 120 extra nodes, 0 pruned nodes, max_depth=6\n",
      "[00:36:36] INFO: ..\\src\\tree\\updater_prune.cc:101: tree pruning end, 126 extra nodes, 0 pruned nodes, max_depth=6\n",
      "[00:36:37] INFO: ..\\src\\tree\\updater_prune.cc:101: tree pruning end, 122 extra nodes, 0 pruned nodes, max_depth=6\n",
      "[00:36:37] INFO: ..\\src\\tree\\updater_prune.cc:101: tree pruning end, 124 extra nodes, 0 pruned nodes, max_depth=6\n",
      "[00:36:37] INFO: ..\\src\\tree\\updater_prune.cc:101: tree pruning end, 126 extra nodes, 0 pruned nodes, max_depth=6\n",
      "[00:36:37] INFO: ..\\src\\tree\\updater_prune.cc:101: tree pruning end, 126 extra nodes, 0 pruned nodes, max_depth=6\n",
      "[00:36:37] INFO: ..\\src\\tree\\updater_prune.cc:101: tree pruning end, 126 extra nodes, 0 pruned nodes, max_depth=6\n",
      "[00:36:37] INFO: ..\\src\\tree\\updater_prune.cc:101: tree pruning end, 124 extra nodes, 0 pruned nodes, max_depth=6\n",
      "[00:36:38] INFO: ..\\src\\tree\\updater_prune.cc:101: tree pruning end, 126 extra nodes, 0 pruned nodes, max_depth=6\n",
      "[00:36:38] INFO: ..\\src\\tree\\updater_prune.cc:101: tree pruning end, 124 extra nodes, 0 pruned nodes, max_depth=6\n",
      "[00:36:38] INFO: ..\\src\\tree\\updater_prune.cc:101: tree pruning end, 122 extra nodes, 0 pruned nodes, max_depth=6\n",
      "[00:36:38] INFO: ..\\src\\tree\\updater_prune.cc:101: tree pruning end, 124 extra nodes, 0 pruned nodes, max_depth=6\n",
      "[00:36:38] INFO: ..\\src\\tree\\updater_prune.cc:101: tree pruning end, 120 extra nodes, 0 pruned nodes, max_depth=6\n",
      "[00:36:38] INFO: ..\\src\\tree\\updater_prune.cc:101: tree pruning end, 126 extra nodes, 0 pruned nodes, max_depth=6\n",
      "[00:36:39] INFO: ..\\src\\tree\\updater_prune.cc:101: tree pruning end, 124 extra nodes, 0 pruned nodes, max_depth=6\n",
      "[00:36:39] INFO: ..\\src\\tree\\updater_prune.cc:101: tree pruning end, 124 extra nodes, 0 pruned nodes, max_depth=6\n",
      "[00:36:39] INFO: ..\\src\\tree\\updater_prune.cc:101: tree pruning end, 126 extra nodes, 0 pruned nodes, max_depth=6\n",
      "[00:36:39] INFO: ..\\src\\tree\\updater_prune.cc:101: tree pruning end, 126 extra nodes, 0 pruned nodes, max_depth=6\n",
      "[00:36:39] INFO: ..\\src\\tree\\updater_prune.cc:101: tree pruning end, 126 extra nodes, 0 pruned nodes, max_depth=6\n",
      "[00:36:39] INFO: ..\\src\\tree\\updater_prune.cc:101: tree pruning end, 126 extra nodes, 0 pruned nodes, max_depth=6\n",
      "[00:36:40] INFO: ..\\src\\tree\\updater_prune.cc:101: tree pruning end, 126 extra nodes, 0 pruned nodes, max_depth=6\n",
      "[00:36:40] INFO: ..\\src\\tree\\updater_prune.cc:101: tree pruning end, 114 extra nodes, 0 pruned nodes, max_depth=6\n",
      "[00:36:40] INFO: ..\\src\\tree\\updater_prune.cc:101: tree pruning end, 124 extra nodes, 0 pruned nodes, max_depth=6\n",
      "[00:36:40] INFO: ..\\src\\tree\\updater_prune.cc:101: tree pruning end, 126 extra nodes, 0 pruned nodes, max_depth=6\n",
      "[00:36:40] INFO: ..\\src\\tree\\updater_prune.cc:101: tree pruning end, 126 extra nodes, 0 pruned nodes, max_depth=6\n",
      "[00:36:40] INFO: ..\\src\\tree\\updater_prune.cc:101: tree pruning end, 126 extra nodes, 0 pruned nodes, max_depth=6\n",
      "[00:36:41] INFO: ..\\src\\tree\\updater_prune.cc:101: tree pruning end, 126 extra nodes, 0 pruned nodes, max_depth=6\n",
      "[00:36:41] INFO: ..\\src\\tree\\updater_prune.cc:101: tree pruning end, 126 extra nodes, 0 pruned nodes, max_depth=6\n",
      "[00:36:41] INFO: ..\\src\\tree\\updater_prune.cc:101: tree pruning end, 106 extra nodes, 0 pruned nodes, max_depth=6\n",
      "[00:36:41] INFO: ..\\src\\tree\\updater_prune.cc:101: tree pruning end, 126 extra nodes, 0 pruned nodes, max_depth=6\n",
      "[00:36:41] INFO: ..\\src\\tree\\updater_prune.cc:101: tree pruning end, 124 extra nodes, 0 pruned nodes, max_depth=6\n",
      "[00:36:41] INFO: ..\\src\\tree\\updater_prune.cc:101: tree pruning end, 126 extra nodes, 0 pruned nodes, max_depth=6\n",
      "[00:36:41] INFO: ..\\src\\tree\\updater_prune.cc:101: tree pruning end, 116 extra nodes, 0 pruned nodes, max_depth=6\n",
      "[00:36:42] INFO: ..\\src\\tree\\updater_prune.cc:101: tree pruning end, 122 extra nodes, 0 pruned nodes, max_depth=6\n",
      "[00:36:42] INFO: ..\\src\\tree\\updater_prune.cc:101: tree pruning end, 126 extra nodes, 0 pruned nodes, max_depth=6\n",
      "[00:36:42] INFO: ..\\src\\tree\\updater_prune.cc:101: tree pruning end, 126 extra nodes, 0 pruned nodes, max_depth=6\n",
      "[00:36:42] INFO: ..\\src\\tree\\updater_prune.cc:101: tree pruning end, 120 extra nodes, 0 pruned nodes, max_depth=6\n",
      "[00:36:42] INFO: ..\\src\\tree\\updater_prune.cc:101: tree pruning end, 126 extra nodes, 0 pruned nodes, max_depth=6\n",
      "[00:36:42] INFO: ..\\src\\tree\\updater_prune.cc:101: tree pruning end, 126 extra nodes, 0 pruned nodes, max_depth=6\n",
      "[00:36:43] INFO: ..\\src\\tree\\updater_prune.cc:101: tree pruning end, 118 extra nodes, 0 pruned nodes, max_depth=6\n",
      "[00:36:43] INFO: ..\\src\\tree\\updater_prune.cc:101: tree pruning end, 126 extra nodes, 0 pruned nodes, max_depth=6\n",
      "[00:36:43] INFO: ..\\src\\tree\\updater_prune.cc:101: tree pruning end, 114 extra nodes, 0 pruned nodes, max_depth=6\n",
      "[00:36:43] INFO: ..\\src\\tree\\updater_prune.cc:101: tree pruning end, 126 extra nodes, 0 pruned nodes, max_depth=6\n",
      "[00:36:43] INFO: ..\\src\\tree\\updater_prune.cc:101: tree pruning end, 126 extra nodes, 0 pruned nodes, max_depth=6\n",
      "[00:36:43] INFO: ..\\src\\tree\\updater_prune.cc:101: tree pruning end, 124 extra nodes, 0 pruned nodes, max_depth=6\n",
      "[00:36:44] INFO: ..\\src\\tree\\updater_prune.cc:101: tree pruning end, 124 extra nodes, 0 pruned nodes, max_depth=6\n",
      "[00:36:44] INFO: ..\\src\\tree\\updater_prune.cc:101: tree pruning end, 124 extra nodes, 0 pruned nodes, max_depth=6\n",
      "[00:36:44] INFO: ..\\src\\tree\\updater_prune.cc:101: tree pruning end, 124 extra nodes, 0 pruned nodes, max_depth=6\n",
      "[00:36:44] INFO: ..\\src\\tree\\updater_prune.cc:101: tree pruning end, 124 extra nodes, 0 pruned nodes, max_depth=6\n",
      "[00:36:44] INFO: ..\\src\\tree\\updater_prune.cc:101: tree pruning end, 126 extra nodes, 0 pruned nodes, max_depth=6\n",
      "[00:36:45] INFO: ..\\src\\tree\\updater_prune.cc:101: tree pruning end, 126 extra nodes, 0 pruned nodes, max_depth=6\n",
      "[00:36:45] INFO: ..\\src\\tree\\updater_prune.cc:101: tree pruning end, 124 extra nodes, 0 pruned nodes, max_depth=6\n"
     ]
    },
    {
     "name": "stdout",
     "output_type": "stream",
     "text": [
      "[00:36:45] INFO: ..\\src\\tree\\updater_prune.cc:101: tree pruning end, 124 extra nodes, 0 pruned nodes, max_depth=6\n",
      "[00:36:45] INFO: ..\\src\\tree\\updater_prune.cc:101: tree pruning end, 110 extra nodes, 0 pruned nodes, max_depth=6\n",
      "[00:36:45] INFO: ..\\src\\tree\\updater_prune.cc:101: tree pruning end, 124 extra nodes, 0 pruned nodes, max_depth=6\n",
      "[00:36:45] INFO: ..\\src\\tree\\updater_prune.cc:101: tree pruning end, 124 extra nodes, 0 pruned nodes, max_depth=6\n",
      "[00:36:46] INFO: ..\\src\\tree\\updater_prune.cc:101: tree pruning end, 112 extra nodes, 0 pruned nodes, max_depth=6\n",
      "[00:36:46] INFO: ..\\src\\tree\\updater_prune.cc:101: tree pruning end, 124 extra nodes, 0 pruned nodes, max_depth=6\n",
      "[00:36:46] INFO: ..\\src\\tree\\updater_prune.cc:101: tree pruning end, 126 extra nodes, 0 pruned nodes, max_depth=6\n",
      "[00:36:46] INFO: ..\\src\\tree\\updater_prune.cc:101: tree pruning end, 124 extra nodes, 0 pruned nodes, max_depth=6\n",
      "[00:36:46] INFO: ..\\src\\tree\\updater_prune.cc:101: tree pruning end, 126 extra nodes, 0 pruned nodes, max_depth=6\n",
      "[00:36:46] INFO: ..\\src\\tree\\updater_prune.cc:101: tree pruning end, 124 extra nodes, 0 pruned nodes, max_depth=6\n",
      "[00:36:47] INFO: ..\\src\\tree\\updater_prune.cc:101: tree pruning end, 126 extra nodes, 0 pruned nodes, max_depth=6\n",
      "[00:36:47] INFO: ..\\src\\tree\\updater_prune.cc:101: tree pruning end, 126 extra nodes, 0 pruned nodes, max_depth=6\n",
      "[00:36:47] INFO: ..\\src\\tree\\updater_prune.cc:101: tree pruning end, 124 extra nodes, 0 pruned nodes, max_depth=6\n",
      "[00:36:47] INFO: ..\\src\\tree\\updater_prune.cc:101: tree pruning end, 116 extra nodes, 0 pruned nodes, max_depth=6\n",
      "[00:36:47] INFO: ..\\src\\tree\\updater_prune.cc:101: tree pruning end, 126 extra nodes, 0 pruned nodes, max_depth=6\n",
      "[00:36:47] INFO: ..\\src\\tree\\updater_prune.cc:101: tree pruning end, 118 extra nodes, 0 pruned nodes, max_depth=6\n",
      "[00:36:48] INFO: ..\\src\\tree\\updater_prune.cc:101: tree pruning end, 122 extra nodes, 0 pruned nodes, max_depth=6\n",
      "[00:36:48] INFO: ..\\src\\tree\\updater_prune.cc:101: tree pruning end, 118 extra nodes, 0 pruned nodes, max_depth=6\n",
      "[00:36:48] INFO: ..\\src\\tree\\updater_prune.cc:101: tree pruning end, 120 extra nodes, 0 pruned nodes, max_depth=6\n",
      "[00:36:48] INFO: ..\\src\\tree\\updater_prune.cc:101: tree pruning end, 126 extra nodes, 0 pruned nodes, max_depth=6\n",
      "[00:36:48] INFO: ..\\src\\tree\\updater_prune.cc:101: tree pruning end, 126 extra nodes, 0 pruned nodes, max_depth=6\n",
      "[00:36:48] INFO: ..\\src\\tree\\updater_prune.cc:101: tree pruning end, 126 extra nodes, 0 pruned nodes, max_depth=6\n",
      "[00:36:49] INFO: ..\\src\\tree\\updater_prune.cc:101: tree pruning end, 126 extra nodes, 0 pruned nodes, max_depth=6\n",
      "[00:36:49] INFO: ..\\src\\tree\\updater_prune.cc:101: tree pruning end, 110 extra nodes, 0 pruned nodes, max_depth=6\n",
      "[00:36:49] INFO: ..\\src\\tree\\updater_prune.cc:101: tree pruning end, 124 extra nodes, 0 pruned nodes, max_depth=6\n",
      "[00:36:49] INFO: ..\\src\\tree\\updater_prune.cc:101: tree pruning end, 122 extra nodes, 0 pruned nodes, max_depth=6\n",
      "[00:36:49] INFO: ..\\src\\tree\\updater_prune.cc:101: tree pruning end, 126 extra nodes, 0 pruned nodes, max_depth=6\n",
      "[00:36:49] INFO: ..\\src\\tree\\updater_prune.cc:101: tree pruning end, 124 extra nodes, 0 pruned nodes, max_depth=6\n",
      "Model End!\n"
     ]
    }
   ],
   "source": [
    "#model_scores = fit_score(models, X_train, X_test, y_train, y_test)\n",
    "model_scores.update(fit_score(models, X_train, X_test, y_train, y_test))"
   ]
  },
  {
   "cell_type": "code",
   "execution_count": 30,
   "metadata": {},
   "outputs": [
    {
     "data": {
      "text/plain": [
       "{'ElasticNet': 0.3718063611574982,\n",
       " 'Lasso': 0.5667788895225012,\n",
       " 'BayesianRidge': 0.5668651374659268,\n",
       " 'DecisionTreeRegressor': 0.9048888336533956,\n",
       " 'MLPRegressor': 0.6009451724128054,\n",
       " 'RandomForestRegressor': 0.9458227294639168,\n",
       " 'XGBRegressor': 0.9052904547244324}"
      ]
     },
     "execution_count": 30,
     "metadata": {},
     "output_type": "execute_result"
    }
   ],
   "source": [
    "model_scores"
   ]
  },
  {
   "cell_type": "code",
   "execution_count": 31,
   "metadata": {},
   "outputs": [
    {
     "data": {
      "text/plain": [
       "<AxesSubplot:>"
      ]
     },
     "execution_count": 31,
     "metadata": {},
     "output_type": "execute_result"
    },
    {
     "data": {
      "image/png": "[encoded data removed]",
      "text/plain": [
       "<Figure size 432x288 with 1 Axes>"
      ]
     },
     "metadata": {
      "needs_background": "light"
     },
     "output_type": "display_data"
    }
   ],
   "source": [
    "model_compare = pd.DataFrame(model_scores,index=[\"accuracy\"])\n",
    "model_compare.T.plot.bar()"
   ]
  },
  {
   "cell_type": "code",
   "execution_count": 13,
   "metadata": {},
   "outputs": [
    {
     "name": "stdout",
     "output_type": "stream",
     "text": [
      "{'bootstrap': [True, False],\n",
      " 'max_depth': [10, 20, 30, 40, 50, 60, 70, 80, 90, 100, 110, None],\n",
      " 'max_features': ['auto', 'sqrt'],\n",
      " 'min_samples_leaf': [1, 2, 4],\n",
      " 'min_samples_split': [2, 5, 10],\n",
      " 'n_estimators': [100, 200, 50, 150]}\n"
     ]
    }
   ],
   "source": [
    "# Testing RandomFreeRegressor\n",
    "\n",
    "# Number of trees in random forest\n",
    "# n_estimators = [int(x) for x in np.linspace(start = 200, stop = 2000, num = 10)]\n",
    "n_estimators = [100,200,50,150]\n",
    "# Number of features to consider at every split\n",
    "max_features = ['auto', 'sqrt']\n",
    "# Maximum number of levels in tree\n",
    "max_depth = [int(x) for x in np.linspace(10, 110, num = 11)]\n",
    "max_depth.append(None)\n",
    "# Minimum number of samples required to split a node\n",
    "min_samples_split = [2, 5, 10]\n",
    "# Minimum number of samples required at each leaf node\n",
    "min_samples_leaf = [1, 2, 4]\n",
    "# Method of selecting samples for training each tree\n",
    "bootstrap = [True, False]\n",
    "# Create the random grid\n",
    "random_grid = {'n_estimators': n_estimators,\n",
    "               'max_features': max_features,\n",
    "               'max_depth': max_depth,\n",
    "               'min_samples_split': min_samples_split,\n",
    "               'min_samples_leaf': min_samples_leaf,\n",
    "               'bootstrap': bootstrap}\n",
    "pprint(random_grid)"
   ]
  },
  {
   "cell_type": "code",
   "execution_count": 16,
   "metadata": {},
   "outputs": [
    {
     "name": "stdout",
     "output_type": "stream",
     "text": [
      "{'bootstrap': [False],\n",
      " 'max_depth': [70, 80, 90, 100, 110, None],\n",
      " 'max_features': ['auto'],\n",
      " 'min_samples_leaf': [2],\n",
      " 'min_samples_split': [5],\n",
      " 'n_estimators': [200, 160, 150]}\n"
     ]
    }
   ],
   "source": [
    "# New Randoms\n",
    "random_grid = {'n_estimators': [200, 160, 150],\n",
    "               'max_features': ['auto'],\n",
    "               'max_depth': [70,80,90,100,110,None],\n",
    "               'min_samples_split': [5],\n",
    "               'min_samples_leaf': [2],\n",
    "               'bootstrap': [False]}\n",
    "pprint(random_grid)\n"
   ]
  },
  {
   "cell_type": "code",
   "execution_count": 17,
   "metadata": {},
   "outputs": [],
   "source": [
    "# Random search of parameters, using 5 fold cross validation, \n",
    "# search across 100 different combinations, and use all available cores\n",
    "rf_random = RandomizedSearchCV(estimator = RFR,\n",
    "                               param_distributions = random_grid,\n",
    "                               n_iter = 5, cv = 3, verbose=2, n_jobs=5,\n",
    "                               scoring='neg_root_mean_squared_error',\n",
    "                               random_state=42)"
   ]
  },
  {
   "cell_type": "code",
   "execution_count": null,
   "metadata": {},
   "outputs": [
    {
     "name": "stdout",
     "output_type": "stream",
     "text": [
      "Fitting 3 folds for each of 5 candidates, totalling 15 fits\n"
     ]
    },
    {
     "name": "stderr",
     "output_type": "stream",
     "text": [
      "[Parallel(n_jobs=5)]: Using backend LokyBackend with 5 concurrent workers.\n"
     ]
    }
   ],
   "source": [
    "rf_random.fit(X_train, y_train)"
   ]
  },
  {
   "cell_type": "code",
   "execution_count": 17,
   "metadata": {},
   "outputs": [
    {
     "data": {
      "text/plain": [
       "RandomForestRegressor(bootstrap=False, max_depth=90, min_samples_leaf=2,\n",
       "                      min_samples_split=5, n_estimators=150, verbose=2)"
      ]
     },
     "execution_count": 17,
     "metadata": {},
     "output_type": "execute_result"
    }
   ],
   "source": [
    "rf_random.best_estimator_"
   ]
  },
  {
   "cell_type": "code",
   "execution_count": 18,
   "metadata": {},
   "outputs": [
    {
     "data": {
      "text/plain": [
       "{'n_estimators': 150,\n",
       " 'min_samples_split': 5,\n",
       " 'min_samples_leaf': 2,\n",
       " 'max_features': 'auto',\n",
       " 'max_depth': 90,\n",
       " 'bootstrap': False}"
      ]
     },
     "execution_count": 18,
     "metadata": {},
     "output_type": "execute_result"
    }
   ],
   "source": [
    "rf_random.best_params_"
   ]
  },
  {
   "cell_type": "code",
   "execution_count": 23,
   "metadata": {},
   "outputs": [
    {
     "data": {
      "text/plain": [
       "RandomForestRegressor(bootstrap=False, max_depth=80, min_samples_leaf=2,\n",
       "                      min_samples_split=5, n_estimators=150, verbose=2)"
      ]
     },
     "execution_count": 23,
     "metadata": {},
     "output_type": "execute_result"
    }
   ],
   "source": [
    "rf_random.best_estimator_"
   ]
  },
  {
   "cell_type": "code",
   "execution_count": 20,
   "metadata": {
    "collapsed": true
   },
   "outputs": [
    {
     "name": "stderr",
     "output_type": "stream",
     "text": [
      "[Parallel(n_jobs=1)]: Using backend SequentialBackend with 1 concurrent workers.\n"
     ]
    },
    {
     "name": "stdout",
     "output_type": "stream",
     "text": [
      "building tree 1 of 150\n"
     ]
    },
    {
     "name": "stderr",
     "output_type": "stream",
     "text": [
      "[Parallel(n_jobs=1)]: Done   1 out of   1 | elapsed:    5.0s remaining:    0.0s\n"
     ]
    },
    {
     "name": "stdout",
     "output_type": "stream",
     "text": [
      "building tree 2 of 150\n",
      "building tree 3 of 150\n",
      "building tree 4 of 150\n",
      "building tree 5 of 150\n",
      "building tree 6 of 150\n",
      "building tree 7 of 150\n",
      "building tree 8 of 150\n",
      "building tree 9 of 150\n",
      "building tree 10 of 150\n",
      "building tree 11 of 150\n",
      "building tree 12 of 150\n",
      "building tree 13 of 150\n",
      "building tree 14 of 150\n",
      "building tree 15 of 150\n",
      "building tree 16 of 150\n",
      "building tree 17 of 150\n",
      "building tree 18 of 150\n",
      "building tree 19 of 150\n",
      "building tree 20 of 150\n",
      "building tree 21 of 150\n",
      "building tree 22 of 150\n",
      "building tree 23 of 150\n",
      "building tree 24 of 150\n",
      "building tree 25 of 150\n",
      "building tree 26 of 150\n",
      "building tree 27 of 150\n",
      "building tree 28 of 150\n",
      "building tree 29 of 150\n",
      "building tree 30 of 150\n",
      "building tree 31 of 150\n",
      "building tree 32 of 150\n",
      "building tree 33 of 150\n",
      "building tree 34 of 150\n",
      "building tree 35 of 150\n",
      "building tree 36 of 150\n",
      "building tree 37 of 150\n",
      "building tree 38 of 150\n",
      "building tree 39 of 150\n",
      "building tree 40 of 150\n",
      "building tree 41 of 150\n",
      "building tree 42 of 150\n",
      "building tree 43 of 150\n",
      "building tree 44 of 150\n",
      "building tree 45 of 150\n",
      "building tree 46 of 150\n",
      "building tree 47 of 150\n",
      "building tree 48 of 150\n",
      "building tree 49 of 150\n",
      "building tree 50 of 150\n",
      "building tree 51 of 150\n",
      "building tree 52 of 150\n",
      "building tree 53 of 150\n",
      "building tree 54 of 150\n",
      "building tree 55 of 150\n",
      "building tree 56 of 150\n",
      "building tree 57 of 150\n",
      "building tree 58 of 150\n",
      "building tree 59 of 150\n",
      "building tree 60 of 150\n",
      "building tree 61 of 150\n",
      "building tree 62 of 150\n",
      "building tree 63 of 150\n",
      "building tree 64 of 150\n",
      "building tree 65 of 150\n",
      "building tree 66 of 150\n",
      "building tree 67 of 150\n",
      "building tree 68 of 150\n",
      "building tree 69 of 150\n",
      "building tree 70 of 150\n",
      "building tree 71 of 150\n",
      "building tree 72 of 150\n",
      "building tree 73 of 150\n",
      "building tree 74 of 150\n",
      "building tree 75 of 150\n",
      "building tree 76 of 150\n",
      "building tree 77 of 150\n",
      "building tree 78 of 150\n",
      "building tree 79 of 150\n",
      "building tree 80 of 150\n",
      "building tree 81 of 150\n",
      "building tree 82 of 150\n",
      "building tree 83 of 150\n",
      "building tree 84 of 150\n",
      "building tree 85 of 150\n",
      "building tree 86 of 150\n",
      "building tree 87 of 150\n",
      "building tree 88 of 150\n",
      "building tree 89 of 150\n",
      "building tree 90 of 150\n",
      "building tree 91 of 150\n",
      "building tree 92 of 150\n",
      "building tree 93 of 150\n",
      "building tree 94 of 150\n",
      "building tree 95 of 150\n",
      "building tree 96 of 150\n",
      "building tree 97 of 150\n",
      "building tree 98 of 150\n",
      "building tree 99 of 150\n",
      "building tree 100 of 150\n",
      "building tree 101 of 150\n",
      "building tree 102 of 150\n",
      "building tree 103 of 150\n",
      "building tree 104 of 150\n",
      "building tree 105 of 150\n",
      "building tree 106 of 150\n",
      "building tree 107 of 150\n",
      "building tree 108 of 150\n",
      "building tree 109 of 150\n",
      "building tree 110 of 150\n",
      "building tree 111 of 150\n",
      "building tree 112 of 150\n",
      "building tree 113 of 150\n",
      "building tree 114 of 150\n",
      "building tree 115 of 150\n",
      "building tree 116 of 150\n",
      "building tree 117 of 150\n",
      "building tree 118 of 150\n",
      "building tree 119 of 150\n",
      "building tree 120 of 150\n",
      "building tree 121 of 150\n",
      "building tree 122 of 150\n",
      "building tree 123 of 150\n",
      "building tree 124 of 150\n",
      "building tree 125 of 150\n",
      "building tree 126 of 150\n",
      "building tree 127 of 150\n",
      "building tree 128 of 150\n",
      "building tree 129 of 150\n",
      "building tree 130 of 150\n",
      "building tree 131 of 150\n",
      "building tree 132 of 150\n",
      "building tree 133 of 150\n",
      "building tree 134 of 150\n",
      "building tree 135 of 150\n",
      "building tree 136 of 150\n",
      "building tree 137 of 150\n",
      "building tree 138 of 150\n",
      "building tree 139 of 150\n",
      "building tree 140 of 150\n",
      "building tree 141 of 150\n",
      "building tree 142 of 150\n",
      "building tree 143 of 150\n",
      "building tree 144 of 150\n",
      "building tree 145 of 150\n",
      "building tree 146 of 150\n",
      "building tree 147 of 150\n",
      "building tree 148 of 150\n",
      "building tree 149 of 150\n",
      "building tree 150 of 150\n"
     ]
    },
    {
     "name": "stderr",
     "output_type": "stream",
     "text": [
      "[Parallel(n_jobs=1)]: Done 150 out of 150 | elapsed: 12.8min finished\n"
     ]
    },
    {
     "data": {
      "text/plain": [
       "RandomForestRegressor(bootstrap=False, max_depth=80, min_samples_leaf=2,\n",
       "                      min_samples_split=5, n_estimators=150, verbose=2)"
      ]
     },
     "execution_count": 20,
     "metadata": {},
     "output_type": "execute_result"
    }
   ],
   "source": [
    "RFR = RandomForestRegressor(n_estimators=150, max_depth=80, min_samples_leaf=2, min_samples_split=5, bootstrap=False, verbose=2)\n",
    "RFR.fit(X_train, y_train)"
   ]
  },
  {
   "cell_type": "code",
   "execution_count": 22,
   "metadata": {},
   "outputs": [],
   "source": [
    "pickle.dump(RFR, open(\"RFModel2.pkl\",\"wb\"))"
   ]
  },
  {
   "cell_type": "code",
   "execution_count": null,
   "metadata": {},
   "outputs": [],
   "source": []
  },
  {
   "cell_type": "code",
   "execution_count": 2,
   "metadata": {},
   "outputs": [],
   "source": [
    "load_model_random_rf = pickle.load(open('RFModel2.pkl','rb'))"
   ]
  },
  {
   "cell_type": "code",
   "execution_count": 3,
   "metadata": {},
   "outputs": [
    {
     "data": {
      "text/plain": [
       "('criterion',\n",
       " 'max_depth',\n",
       " 'min_samples_split',\n",
       " 'min_samples_leaf',\n",
       " 'min_weight_fraction_leaf',\n",
       " 'max_features',\n",
       " 'max_leaf_nodes',\n",
       " 'min_impurity_decrease',\n",
       " 'min_impurity_split',\n",
       " 'random_state',\n",
       " 'ccp_alpha')"
      ]
     },
     "execution_count": 3,
     "metadata": {},
     "output_type": "execute_result"
    }
   ],
   "source": [
    "load_model_random_rf.estimator_params"
   ]
  },
  {
   "cell_type": "code",
   "execution_count": 6,
   "metadata": {},
   "outputs": [],
   "source": [
    "columns = ['Store', 'DayOfWeek', 'Open', 'Promo', 'SchoolHoliday', 'year', 'month',\n",
    "       'quarter', 'dayofyear', 'weekofyear', 'week', 'is_month_start',\n",
    "       'is_month_end', 'is_year_end', 'is_year_start', 'WeekOfMonth',\n",
    "       'StateHolidayCat', 'Promo2', 'CompetitionDistance',\n",
    "       'CompetitionOpenSinceMonth', 'CompetitionOpenSinceYear',\n",
    "       'Promo2SinceWeek', 'Promo2SinceYear', 'StoreType', 'Assortment', 'Jan',\n",
    "       'Feb', 'Mar', 'Apr', 'May', 'Jun', 'Jul', 'Aug', 'Sep', 'Oct', 'Nov',\n",
    "       'Dec']"
   ]
  },
  {
   "cell_type": "code",
   "execution_count": 13,
   "metadata": {},
   "outputs": [
    {
     "data": {
      "text/plain": [
       "<AxesSubplot:>"
      ]
     },
     "execution_count": 13,
     "metadata": {},
     "output_type": "execute_result"
    },
    {
     "data": {
      "image/png": "[encoded data removed]",
      "text/plain": [
       "<Figure size 864x504 with 1 Axes>"
      ]
     },
     "metadata": {
      "needs_background": "light"
     },
     "output_type": "display_data"
    }
   ],
   "source": [
    "(pd.Series(load_model_random_rf.feature_importances_, index=columns)\n",
    " .nlargest(50)\n",
    "   .plot(kind='barh', figsize=(12,7))) "
   ]
  },
  {
   "cell_type": "code",
   "execution_count": null,
   "metadata": {},
   "outputs": [],
   "source": []
  },
  {
   "cell_type": "code",
   "execution_count": null,
   "metadata": {},
   "outputs": [],
   "source": []
  },
  {
   "cell_type": "code",
   "execution_count": null,
   "metadata": {},
   "outputs": [],
   "source": []
  },
  {
   "cell_type": "code",
   "execution_count": 26,
   "metadata": {},
   "outputs": [
    {
     "name": "stderr",
     "output_type": "stream",
     "text": [
      "[Parallel(n_jobs=1)]: Using backend SequentialBackend with 1 concurrent workers.\n",
      "[Parallel(n_jobs=1)]: Done   1 out of   1 | elapsed:    0.0s remaining:    0.0s\n",
      "[Parallel(n_jobs=1)]: Done 150 out of 150 | elapsed:    8.9s finished\n"
     ]
    },
    {
     "data": {
      "text/plain": [
       "0.9205670581985987"
      ]
     },
     "execution_count": 26,
     "metadata": {},
     "output_type": "execute_result"
    }
   ],
   "source": [
    "load_model_random_rf.score(X_test, y_test)"
   ]
  },
  {
   "cell_type": "code",
   "execution_count": 27,
   "metadata": {},
   "outputs": [
    {
     "name": "stderr",
     "output_type": "stream",
     "text": [
      "[Parallel(n_jobs=1)]: Using backend SequentialBackend with 1 concurrent workers.\n",
      "[Parallel(n_jobs=1)]: Done   1 out of   1 | elapsed:    0.0s remaining:    0.0s\n",
      "[Parallel(n_jobs=1)]: Done 150 out of 150 | elapsed:    8.8s finished\n"
     ]
    },
    {
     "data": {
      "text/plain": [
       "1222812.058119685"
      ]
     },
     "execution_count": 27,
     "metadata": {},
     "output_type": "execute_result"
    }
   ],
   "source": [
    "mean_squared_error(y_test, load_model_random_rf.predict(X_test))"
   ]
  },
  {
   "cell_type": "code",
   "execution_count": 31,
   "metadata": {},
   "outputs": [
    {
     "name": "stderr",
     "output_type": "stream",
     "text": [
      "[Parallel(n_jobs=1)]: Using backend SequentialBackend with 1 concurrent workers.\n",
      "[Parallel(n_jobs=1)]: Done   1 out of   1 | elapsed:    0.0s remaining:    0.0s\n",
      "[Parallel(n_jobs=1)]: Done 150 out of 150 | elapsed:   14.0s finished\n"
     ]
    }
   ],
   "source": [
    "# Testing\n",
    "results = load_model_random_rf.predict(final_df)"
   ]
  },
  {
   "cell_type": "code",
   "execution_count": 32,
   "metadata": {},
   "outputs": [
    {
     "name": "stdout",
     "output_type": "stream",
     "text": [
      "<class 'pandas.core.frame.DataFrame'>\n",
      "RangeIndex: 305163 entries, 0 to 305162\n",
      "Data columns (total 2 columns):\n",
      " #   Column  Non-Null Count   Dtype  \n",
      "---  ------  --------------   -----  \n",
      " 0   Index   305163 non-null  int32  \n",
      " 1   Sales   305163 non-null  float64\n",
      "dtypes: float64(1), int32(1)\n",
      "memory usage: 3.5 MB\n",
      "None\n",
      "   Index   Sales\n",
      "0      0     0.0\n",
      "1      1  3436.0\n",
      "2      2  5752.0\n",
      "3      3  3976.0\n",
      "4      4  7187.0\n"
     ]
    }
   ],
   "source": [
    "df_results = pd.DataFrame(results, index = None)\n",
    "#Remove all negative\n",
    "df_results[df_results < 0] = 0\n",
    "df_results[\"Index\"]=range(0, len(df_results))\n",
    "df_results.columns=[\"Sales\",\"Index\"]\n",
    "\n",
    "columns_titles = [\"Index\",\"Sales\"]\n",
    "df_results=df_results.reindex(columns=columns_titles)\n",
    "#Apply Up on the Sales column\n",
    "df_results['Sales'] = df_results['Sales'].apply(np.ceil)\n",
    "print(df_results.info())\n",
    "print(df_results.head())\n",
    "df_results.to_csv(\"outputm4.csv\", index=False)"
   ]
  },
  {
   "cell_type": "code",
   "execution_count": null,
   "metadata": {},
   "outputs": [],
   "source": []
  }
 ],
 "metadata": {
  "kernelspec": {
   "display_name": "Python 3",
   "language": "python",
   "name": "python3"
  },
  "language_info": {
   "codemirror_mode": {
    "name": "ipython",
    "version": 3
   },
   "file_extension": ".py",
   "mimetype": "text/x-python",
   "name": "python",
   "nbconvert_exporter": "python",
   "pygments_lexer": "ipython3",
   "version": "3.8.5"
  }
 },
 "nbformat": 4,
 "nbformat_minor": 4
}
