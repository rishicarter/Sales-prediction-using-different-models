{
 "cells": [
  {
   "cell_type": "markdown",
   "metadata": {},
   "source": [
    "# 🎂 Segmind Challenge : Prediction of Sales of each Store🎂\n",
    "\n",
    "## TO DO:\n",
    "\n",
    "> Predict store sales of a store using the given dataset.\n",
    "\n",
    "## Data:\n",
    "> Dataset Given\n",
    "\n",
    "* The dataset consists of 4 CSV files:\n",
    "* TRAIN.csv : (./dataset/TRAIN.csv)\n",
    "* TEST.csv: (./dataset/TEST.csv)\n",
    "* store.csv - additional information regarding the stores: (./dataset/store.csv)\n",
    "\n",
    "## Evaluate:\n",
    "* Time-series prediction problem.\n",
    "* Sales has direct correlation to OPEN or not\n",
    "\n",
    "## Features:\n",
    "> From Test data\n",
    "\n",
    "* Store: Store number\n",
    "* DayOfWeek: Day (out of 7) per week\n",
    "* Date: DD-MM-YYYY format\n",
    "* Open: 1 for open, 0 for close\n",
    "* Promo: 0 or 1 \n",
    "* StateHoliday: 0, a, b, c (0 or store type)\n",
    "* SchoolHoliday: 0 or 1"
   ]
  },
  {
   "cell_type": "markdown",
   "metadata": {},
   "source": [
    "## 🤳Imports"
   ]
  },
  {
   "cell_type": "code",
   "execution_count": 1,
   "metadata": {},
   "outputs": [],
   "source": [
    "# Essentials\n",
    "import sys\n",
    "import numpy as np\n",
    "import pandas as pd\n",
    "import matplotlib.pyplot as plt\n",
    "\n",
    "import seaborn as sns\n",
    "from pandas.plotting import scatter_matrix\n",
    "from sklearn.preprocessing import OneHotEncoder, StandardScaler, LabelEncoder, OrdinalEncoder\n",
    "from sklearn.impute import SimpleImputer\n",
    "from sklearn.pipeline import Pipeline\n",
    "from sklearn.compose import ColumnTransformer\n",
    "from dateutil.parser import parse\n",
    "from math import ceil\n",
    "from sklearn.model_selection import train_test_split, RandomizedSearchCV, GridSearchCV\n",
    "from sklearn.linear_model import ElasticNet, Lasso, SGDRegressor, BayesianRidge\n",
    "from sklearn.tree import DecisionTreeRegressor\n",
    "from sklearn.svm import SVR\n",
    "from sklearn.neural_network import MLPRegressor\n",
    "from sklearn.ensemble import AdaBoostRegressor,ExtraTreesRegressor,GradientBoostingRegressor,RandomForestRegressor\n",
    "import xgboost\n",
    "from sklearn.metrics import mean_squared_error, mean_absolute_error, r2_score\n",
    "from pprint import pprint\n",
    "\n",
    "import pickle"
   ]
  },
  {
   "cell_type": "markdown",
   "metadata": {},
   "source": [
    "## 💚Inputs"
   ]
  },
  {
   "cell_type": "code",
   "execution_count": 2,
   "metadata": {},
   "outputs": [],
   "source": [
    "# Store data\n",
    "def import_store():\n",
    "    storedf = pd.read_csv('./dataset/store.csv')\n",
    "    return storedf\n",
    "# Sales data\n",
    "def import_data(x):\n",
    "    df = pd.read_csv('./dataset/'+x+'.csv')\n",
    "    return df"
   ]
  },
  {
   "cell_type": "markdown",
   "metadata": {},
   "source": [
    "## 💌Total preprocessing"
   ]
  },
  {
   "cell_type": "code",
   "execution_count": 3,
   "metadata": {},
   "outputs": [],
   "source": [
    "# Store attributes\n",
    "months = ['Jan','Feb','Mar','Apr','May','Jun','Jul','Aug','Sep','Oct','Nov','Dec']\n",
    "months_with_store = ['Store','Jan','Feb','Mar','Apr','May','Jun','Jul','Aug','Sep','Oct','Nov','Dec']\n",
    "num_attribs = [\"CompetitionDistance\",\n",
    "               \"CompetitionOpenSinceMonth\",\n",
    "               \"CompetitionOpenSinceYear\",\n",
    "               \"Promo2SinceWeek\",\n",
    "               \"Promo2SinceYear\"]\n",
    "# scale_attribs = [\"CompetitionDistance\"]\n",
    "obj_attribs = [\"StoreType\", \"Assortment\"]"
   ]
  },
  {
   "cell_type": "code",
   "execution_count": 4,
   "metadata": {},
   "outputs": [],
   "source": [
    "# Store Pipelines\n",
    "\n",
    "# cd_pipeline_median = Pipeline([\n",
    "#     (\"imputer\", SimpleImputer(strategy='median')),\n",
    "#     (\"stdscale\", StandardScaler())\n",
    "# ])\n",
    "\n",
    "# cd_pipeline_mean = Pipeline([\n",
    "#     (\"imputer\", SimpleImputer(strategy='mean')),\n",
    "#     (\"stdscale\", StandardScaler())\n",
    "# ])\n",
    "\n",
    "# cd_pipeline_mode = Pipeline([\n",
    "#     (\"imputer\", SimpleImputer(strategy='most_frequent')),\n",
    "#     (\"stdscale\", StandardScaler())\n",
    "# ])\n",
    "\n",
    "full_pipeline_median = ColumnTransformer([\n",
    "    (\"num\", SimpleImputer(strategy='median'), num_attribs),\n",
    "    #(\"stdscale\", StandardScaler(), num_attribs),\n",
    "    (\"cat\", OrdinalEncoder(), obj_attribs)\n",
    "])\n",
    "\n",
    "full_pipeline_mean = ColumnTransformer([\n",
    "    (\"num\", SimpleImputer(strategy='mean'), num_attribs),\n",
    "    (\"cat\", OrdinalEncoder(), obj_attribs)\n",
    "])\n",
    "\n",
    "full_pipeline_mode = ColumnTransformer([\n",
    "    (\"num\", SimpleImputer(strategy='most_frequent'), num_attribs),\n",
    "    (\"cat\", OrdinalEncoder(), obj_attribs)\n",
    "])"
   ]
  },
  {
   "cell_type": "code",
   "execution_count": 5,
   "metadata": {},
   "outputs": [],
   "source": [
    "# Sore Preprocessing\n",
    "\n",
    "def divide_promointerval():\n",
    "    '''\n",
    "    1. Fillna with '0' in PROMOINTERVAL\n",
    "    2. Dividing PromoInterval into months and applying custom one hot encoding\n",
    "    4. Drop PROMOINTERVAL\n",
    "    ----------\n",
    "    PARAMETERS\n",
    "    ----------\n",
    "    NA\n",
    "    -------\n",
    "    RETURNS\n",
    "    -------    \n",
    "    test: DF after divinding the Promointerval into months\n",
    "    '''\n",
    "    store['PromoInterval'].fillna(value='0', inplace=True)\n",
    "    test = pd.DataFrame(data=store.Store, columns=months_with_store)\n",
    "    for month in months:\n",
    "        test[month] = np.where(store[\"PromoInterval\"].str.contains(month), 1, 0)\n",
    "    if 'PromoInterval' in store.columns:    \n",
    "        store.drop('PromoInterval', inplace=True, axis=1)    \n",
    "    return test\n",
    "\n",
    "def drop_store_columns():\n",
    "    '''\n",
    "    Dropping columns after preprocessing.\n",
    "    '''\n",
    "    for attri in num_attribs:\n",
    "        if attri in store.columns:\n",
    "            store.drop(attri, inplace=True, axis=1)\n",
    "    for attri in obj_attribs:\n",
    "        if attri in store.columns:\n",
    "            store.drop(attri, inplace=True, axis=1)         "
   ]
  },
  {
   "cell_type": "code",
   "execution_count": 6,
   "metadata": {},
   "outputs": [],
   "source": [
    "# Store transformation\n",
    "store = import_store()\n",
    "store_tranformed = full_pipeline_median.fit_transform(store)\n",
    "drop_store_columns()\n",
    "store_prepared = pd.DataFrame(data=store_tranformed, columns=(num_attribs+obj_attribs), index=store.index)\n",
    "store = store.join(store_prepared)\n",
    "month_df = divide_promointerval()\n",
    "store_df = pd.merge(left=store, right=month_df, on='Store')"
   ]
  },
  {
   "cell_type": "code",
   "execution_count": 7,
   "metadata": {},
   "outputs": [],
   "source": [
    "# Data Preprocessing\n",
    "def week_of_month(tgtdate):\n",
    "    date = parse(tgtdate)\n",
    "    first_day = date.replace(day=1)\n",
    "\n",
    "    day_of_month = date.day\n",
    "\n",
    "    if(first_day.weekday() == 6):\n",
    "        adjusted_dom = (1 + first_day.weekday()) / 7\n",
    "    else:\n",
    "        adjusted_dom = day_of_month + first_day.weekday()\n",
    "\n",
    "    return int(ceil(adjusted_dom/7.0))\n",
    "\n",
    "def change_tf(true_false):\n",
    "    if true_false == True:\n",
    "        return 1\n",
    "    else:\n",
    "        return 0\n",
    "\n",
    "def date_preproccesing():\n",
    "    train_df['year'] = pd.DatetimeIndex(train_df['Date']).year\n",
    "    train_df['month'] = pd.DatetimeIndex(train_df['Date']).month\n",
    "    train_df['quarter'] = pd.DatetimeIndex(train_df['Date']).quarter\n",
    "    train_df['dayofyear'] = pd.DatetimeIndex(train_df['Date']).dayofyear\n",
    "    train_df['weekofyear'] = pd.DatetimeIndex(train_df['Date']).weekofyear\n",
    "    train_df['week'] = pd.DatetimeIndex(train_df['Date']).week\n",
    "    train_df['is_month_start'] = pd.DatetimeIndex(train_df['Date']).is_month_start\n",
    "    train_df['is_month_end'] = pd.DatetimeIndex(train_df['Date']).is_month_end\n",
    "    train_df['is_year_end'] = pd.DatetimeIndex(train_df['Date']).is_year_end\n",
    "    train_df['is_year_start'] = pd.DatetimeIndex(train_df['Date']).is_year_start\n",
    "    train_df[\"StateHoliday\"] = train_df[\"StateHoliday\"].apply(lambda x: str(x))\n",
    "    train_df[\"WeekOfMonth\"] = train_df[\"Date\"].apply(week_of_month)\n",
    "    train_df[\"is_month_start\"] = train_df[\"is_month_start\"].apply(lambda x: change_tf(x))\n",
    "    train_df[\"is_month_end\"] = train_df[\"is_month_end\"].apply(lambda x: change_tf(x))\n",
    "    train_df[\"is_year_end\"] = train_df[\"is_year_end\"].apply(lambda x: change_tf(x))\n",
    "    train_df[\"is_year_start\"] = train_df[\"is_year_start\"].apply(lambda x: change_tf(x))\n",
    "\n",
    "def cat_transformation(x):\n",
    "    if 'train' in x:\n",
    "        train_df['StateHolidayCat'] = labelencoder.fit_transform(train_df['StateHoliday'])\n",
    "    else:\n",
    "        train_df['StateHolidayCat'] = labelencoder.transform(train_df['StateHoliday'])\n",
    "\n",
    "def drop_data_columns():\n",
    "    if 'Date' in train_df.columns:\n",
    "        train_df.drop('Date', inplace=True, axis=1)\n",
    "    if 'StateHoliday' in train_df.columns:\n",
    "        train_df.drop('StateHoliday', axis=1, inplace=True)\n",
    "    if 'Customers' in train_df.columns:\n",
    "        train_df.drop('Customers', axis=1, inplace=True)"
   ]
  },
  {
   "cell_type": "code",
   "execution_count": 8,
   "metadata": {},
   "outputs": [],
   "source": [
    "labelencoder = LabelEncoder()"
   ]
  },
  {
   "cell_type": "code",
   "execution_count": 9,
   "metadata": {},
   "outputs": [
    {
     "name": "stderr",
     "output_type": "stream",
     "text": [
      "C:\\Users\\rishi\\anaconda3\\lib\\site-packages\\IPython\\core\\interactiveshell.py:3338: DtypeWarning: Columns (7) have mixed types.Specify dtype option on import or set low_memory=False.\n",
      "  if (await self.run_code(code, result,  async_=asy)):\n",
      "<ipython-input-7-1c317fd3e691>:26: FutureWarning: weekofyear and week have been deprecated, please use DatetimeIndex.isocalendar().week instead, which returns a Series.  To exactly reproduce the behavior of week and weekofyear and return an Index, you may call pd.Int64Index(idx.isocalendar().week)\n",
      "  train_df['weekofyear'] = pd.DatetimeIndex(train_df['Date']).weekofyear\n",
      "<ipython-input-7-1c317fd3e691>:27: FutureWarning: weekofyear and week have been deprecated, please use DatetimeIndex.isocalendar().week instead, which returns a Series.  To exactly reproduce the behavior of week and weekofyear and return an Index, you may call pd.Int64Index(idx.isocalendar().week)\n",
      "  train_df['week'] = pd.DatetimeIndex(train_df['Date']).week\n"
     ]
    }
   ],
   "source": [
    "# Data transformation\n",
    "# labelencoder = LabelEncoder()\n",
    "train_or_test = 'train' #'test' 'train'\n",
    "train_df = import_data(train_or_test)\n",
    "date_preproccesing()\n",
    "if 'train' in train_or_test:\n",
    "    labelencoder.fit(train_df['StateHoliday'])\n",
    "    train_df['StateHolidayCat'] = labelencoder.transform(train_df['StateHoliday'])\n",
    "#     labelencoder.fit_transform(train_df['StateHoliday'])\n",
    "else:\n",
    "    train_df['StateHolidayCat'] = labelencoder.transform(train_df['StateHoliday'])\n",
    "# train_df['StateHolidayCat'] = labelencoder.transform(train_df['StateHoliday'])\n",
    "# cat_transformation(train_or_test)\n",
    "drop_data_columns()"
   ]
  },
  {
   "cell_type": "code",
   "execution_count": 10,
   "metadata": {},
   "outputs": [],
   "source": [
    "# Final_df\n",
    "# final_df = pd.merge(left=train_df, right=store_df, on='Store')\n",
    "final_df = pd.merge(train_df,store_df, how='left', left_on='Store', right_on='Store')\n",
    "#final_df.drop('Store', axis=1, inplace=True)"
   ]
  },
  {
   "cell_type": "code",
   "execution_count": 11,
   "metadata": {},
   "outputs": [
    {
     "data": {
      "text/plain": [
       "Index(['Store', 'DayOfWeek', 'Sales', 'Open', 'Promo', 'SchoolHoliday', 'year',\n",
       "       'month', 'quarter', 'dayofyear', 'weekofyear', 'week', 'is_month_start',\n",
       "       'is_month_end', 'is_year_end', 'is_year_start', 'WeekOfMonth',\n",
       "       'StateHolidayCat', 'Promo2', 'CompetitionDistance',\n",
       "       'CompetitionOpenSinceMonth', 'CompetitionOpenSinceYear',\n",
       "       'Promo2SinceWeek', 'Promo2SinceYear', 'StoreType', 'Assortment', 'Jan',\n",
       "       'Feb', 'Mar', 'Apr', 'May', 'Jun', 'Jul', 'Aug', 'Sep', 'Oct', 'Nov',\n",
       "       'Dec'],\n",
       "      dtype='object')"
      ]
     },
     "execution_count": 11,
     "metadata": {},
     "output_type": "execute_result"
    }
   ],
   "source": [
    "final_df.columns"
   ]
  },
  {
   "cell_type": "markdown",
   "metadata": {},
   "source": [
    "## 🎁Modelling"
   ]
  },
  {
   "cell_type": "code",
   "execution_count": 12,
   "metadata": {},
   "outputs": [],
   "source": [
    "# Splitting the data\n",
    "X = final_df.drop('Sales', axis=1)\n",
    "y = final_df['Sales']\n",
    "X_train, X_test, y_train, y_test = train_test_split(X, y, test_size=0.25, random_state=42)"
   ]
  },
  {
   "cell_type": "code",
   "execution_count": 13,
   "metadata": {},
   "outputs": [
    {
     "name": "stdout",
     "output_type": "stream",
     "text": [
      "Iteration 1, loss = 5544902.32058699\n",
      "Validation score: 0.435569\n",
      "Iteration 2, loss = 4154347.19590872\n",
      "Validation score: 0.482734\n",
      "Iteration 3, loss = 3933552.13317888\n",
      "Validation score: 0.447516\n",
      "Iteration 4, loss = 3793900.64886350\n",
      "Validation score: 0.544373\n",
      "Iteration 5, loss = 3685502.34232747\n",
      "Validation score: 0.556578\n",
      "Iteration 6, loss = 3596443.71785454\n",
      "Validation score: 0.433051\n",
      "Iteration 7, loss = 3586317.75696821\n",
      "Validation score: 0.319296\n",
      "Iteration 8, loss = 3539838.26349290\n",
      "Validation score: 0.533917\n",
      "Iteration 9, loss = 3519256.92816167\n",
      "Validation score: 0.497266\n",
      "Iteration 10, loss = 3480827.01333110\n",
      "Validation score: 0.553169\n",
      "Iteration 11, loss = 3470886.96758402\n",
      "Validation score: 0.539749\n",
      "Iteration 12, loss = 3466102.48313983\n",
      "Validation score: 0.569967\n",
      "Iteration 13, loss = 3440076.36306263\n",
      "Validation score: 0.578197\n",
      "Iteration 14, loss = 3430030.08655396\n",
      "Validation score: 0.427294\n",
      "Iteration 15, loss = 3444218.77275838\n",
      "Validation score: 0.565220\n",
      "Iteration 16, loss = 3415387.97170576\n",
      "Validation score: 0.581929\n",
      "Iteration 17, loss = 3415191.13931525\n",
      "Validation score: 0.542164\n",
      "Iteration 18, loss = 3432060.67779186\n",
      "Validation score: 0.371768\n",
      "Iteration 19, loss = 3399502.41197000\n",
      "Validation score: 0.515754\n",
      "Iteration 20, loss = 3388000.53925563\n",
      "Validation score: 0.573500\n",
      "Iteration 21, loss = 3379589.39972469\n",
      "Validation score: 0.576139\n",
      "Iteration 22, loss = 3384230.88820494\n",
      "Validation score: 0.514621\n",
      "Iteration 23, loss = 3397851.27064365\n",
      "Validation score: 0.576741\n",
      "Iteration 24, loss = 3369403.97948757\n",
      "Validation score: 0.572013\n",
      "Iteration 25, loss = 3389774.62958871\n",
      "Validation score: 0.462260\n",
      "Iteration 26, loss = 3398537.16865296\n",
      "Validation score: 0.550965\n",
      "Iteration 27, loss = 3367618.10477184\n",
      "Validation score: 0.567268\n",
      "Validation score did not improve more than tol=0.000100 for 10 consecutive epochs. Stopping.\n"
     ]
    },
    {
     "data": {
      "text/plain": [
       "MLPRegressor(early_stopping=True, learning_rate_init=0.06, random_state=42,\n",
       "             verbose=True)"
      ]
     },
     "execution_count": 13,
     "metadata": {},
     "output_type": "execute_result"
    }
   ],
   "source": [
    "# Working on MLP Regressor\n",
    "\n",
    "MLP = MLPRegressor(verbose=True, \n",
    "                   learning_rate_init=0.06, \n",
    "                   early_stopping=True, \n",
    "                   random_state=42, \n",
    "                   validation_fraction=0.1)\n",
    "MLP.fit(X_train, y_train)"
   ]
  },
  {
   "cell_type": "code",
   "execution_count": 14,
   "metadata": {},
   "outputs": [
    {
     "data": {
      "text/plain": [
       "1727.2048615049168"
      ]
     },
     "execution_count": 14,
     "metadata": {},
     "output_type": "execute_result"
    }
   ],
   "source": [
    "mean_absolute_error(y_test, MLP.predict(X_test))"
   ]
  },
  {
   "cell_type": "code",
   "execution_count": 15,
   "metadata": {},
   "outputs": [
    {
     "data": {
      "text/plain": [
       "0.5851425245150705"
      ]
     },
     "execution_count": 15,
     "metadata": {},
     "output_type": "execute_result"
    }
   ],
   "source": [
    "MLP.score(X_test, y_test)"
   ]
  },
  {
   "cell_type": "code",
   "execution_count": 20,
   "metadata": {},
   "outputs": [
    {
     "name": "stdout",
     "output_type": "stream",
     "text": [
      "Iteration 1, loss = 7782669.93946465\n",
      "Validation score: 0.028111\n"
     ]
    },
    {
     "name": "stderr",
     "output_type": "stream",
     "text": [
      "C:\\Users\\rishi\\anaconda3\\lib\\site-packages\\sklearn\\neural_network\\_multilayer_perceptron.py:587: UserWarning: Training interrupted by user.\n",
      "  warnings.warn(\"Training interrupted by user.\")\n"
     ]
    },
    {
     "data": {
      "text/plain": [
       "MLPRegressor(early_stopping=True, random_state=42, verbose=True)"
      ]
     },
     "execution_count": 20,
     "metadata": {},
     "output_type": "execute_result"
    }
   ],
   "source": [
    "# Try 2\n",
    "MLP = MLPRegressor(verbose=True,\n",
    "                   shuffle=True,\n",
    "                   early_stopping=True, \n",
    "                   random_state=42, \n",
    "                   validation_fraction=0.1)\n",
    "MLP.fit(X_train, y_train)"
   ]
  },
  {
   "cell_type": "code",
   "execution_count": null,
   "metadata": {},
   "outputs": [],
   "source": []
  },
  {
   "cell_type": "code",
   "execution_count": null,
   "metadata": {},
   "outputs": [],
   "source": []
  },
  {
   "cell_type": "code",
   "execution_count": null,
   "metadata": {},
   "outputs": [],
   "source": []
  },
  {
   "cell_type": "code",
   "execution_count": null,
   "metadata": {},
   "outputs": [],
   "source": []
  },
  {
   "cell_type": "code",
   "execution_count": null,
   "metadata": {},
   "outputs": [],
   "source": []
  },
  {
   "cell_type": "code",
   "execution_count": null,
   "metadata": {},
   "outputs": [],
   "source": []
  },
  {
   "cell_type": "code",
   "execution_count": null,
   "metadata": {},
   "outputs": [],
   "source": []
  },
  {
   "cell_type": "code",
   "execution_count": null,
   "metadata": {},
   "outputs": [],
   "source": []
  },
  {
   "cell_type": "code",
   "execution_count": 43,
   "metadata": {},
   "outputs": [
    {
     "data": {
      "text/plain": [
       "<AxesSubplot:>"
      ]
     },
     "execution_count": 43,
     "metadata": {},
     "output_type": "execute_result"
    },
    {
     "data": {
      "image/png": "[encoded data removed]",
      "text/plain": [
       "<Figure size 864x504 with 1 Axes>"
      ]
     },
     "metadata": {
      "needs_background": "light"
     },
     "output_type": "display_data"
    }
   ],
   "source": [
    "(pd.Series(gbrt.feature_importances_, index=X.columns)\n",
    " .nlargest(10)\n",
    "   .plot(kind='barh', figsize=(12,7))) "
   ]
  },
  {
   "cell_type": "code",
   "execution_count": null,
   "metadata": {},
   "outputs": [],
   "source": []
  },
  {
   "cell_type": "code",
   "execution_count": null,
   "metadata": {},
   "outputs": [],
   "source": []
  },
  {
   "cell_type": "code",
   "execution_count": null,
   "metadata": {},
   "outputs": [],
   "source": []
  },
  {
   "cell_type": "code",
   "execution_count": null,
   "metadata": {},
   "outputs": [],
   "source": []
  },
  {
   "cell_type": "code",
   "execution_count": 18,
   "metadata": {},
   "outputs": [],
   "source": [
    "x = np.arange(10,20, dtype = float)/1000"
   ]
  },
  {
   "cell_type": "code",
   "execution_count": 19,
   "metadata": {},
   "outputs": [
    {
     "data": {
      "text/plain": [
       "array([0.01 , 0.011, 0.012, 0.013, 0.014, 0.015, 0.016, 0.017, 0.018,\n",
       "       0.019])"
      ]
     },
     "execution_count": 19,
     "metadata": {},
     "output_type": "execute_result"
    }
   ],
   "source": [
    "x"
   ]
  },
  {
   "cell_type": "code",
   "execution_count": null,
   "metadata": {},
   "outputs": [],
   "source": []
  },
  {
   "cell_type": "code",
   "execution_count": null,
   "metadata": {},
   "outputs": [],
   "source": []
  },
  {
   "cell_type": "code",
   "execution_count": null,
   "metadata": {},
   "outputs": [],
   "source": []
  },
  {
   "cell_type": "code",
   "execution_count": null,
   "metadata": {},
   "outputs": [],
   "source": []
  },
  {
   "cell_type": "code",
   "execution_count": null,
   "metadata": {},
   "outputs": [],
   "source": []
  },
  {
   "cell_type": "code",
   "execution_count": null,
   "metadata": {},
   "outputs": [],
   "source": [
    "#pickle.dump(gbrt, open(\"GradientBoostingRegressor.pkl\",\"wb\"))"
   ]
  },
  {
   "cell_type": "code",
   "execution_count": 47,
   "metadata": {},
   "outputs": [],
   "source": [
    "results = gbrt.predict(final_df)"
   ]
  },
  {
   "cell_type": "code",
   "execution_count": 48,
   "metadata": {},
   "outputs": [
    {
     "name": "stdout",
     "output_type": "stream",
     "text": [
      "<class 'pandas.core.frame.DataFrame'>\n",
      "RangeIndex: 305163 entries, 0 to 305162\n",
      "Data columns (total 2 columns):\n",
      " #   Column  Non-Null Count   Dtype  \n",
      "---  ------  --------------   -----  \n",
      " 0   Index   305163 non-null  int32  \n",
      " 1   Sales   305163 non-null  float64\n",
      "dtypes: float64(1), int32(1)\n",
      "memory usage: 3.5 MB\n",
      "None\n",
      "   Index   Sales\n",
      "0      0   360.0\n",
      "1      1  4056.0\n",
      "2      2  6616.0\n",
      "3      3  4410.0\n",
      "4      4  7623.0\n"
     ]
    }
   ],
   "source": [
    "df_results = pd.DataFrame(results, index = None)\n",
    "#Remove all negative\n",
    "df_results[df_results < 0] = 0\n",
    "df_results[\"Index\"]=range(0, len(df_results))\n",
    "df_results.columns=[\"Sales\",\"Index\"]\n",
    "\n",
    "columns_titles = [\"Index\",\"Sales\"]\n",
    "df_results=df_results.reindex(columns=columns_titles)\n",
    "#Apply Up on the Sales column\n",
    "df_results['Sales'] = df_results['Sales'].apply(np.ceil)\n",
    "print(df_results.info())\n",
    "print(df_results.head())\n",
    "df_results.to_csv(\"outputm3.csv\", index=False)"
   ]
  }
 ],
 "metadata": {
  "kernelspec": {
   "display_name": "Python 3",
   "language": "python",
   "name": "python3"
  },
  "language_info": {
   "codemirror_mode": {
    "name": "ipython",
    "version": 3
   },
   "file_extension": ".py",
   "mimetype": "text/x-python",
   "name": "python",
   "nbconvert_exporter": "python",
   "pygments_lexer": "ipython3",
   "version": "3.8.5"
  }
 },
 "nbformat": 4,
 "nbformat_minor": 4
}
